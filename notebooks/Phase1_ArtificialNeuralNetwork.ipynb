{
  "cells": [
    {
      "cell_type": "markdown",
      "metadata": {
        "id": "NfKvCK6WqPOa"
      },
      "source": [
        "# Load Data"
      ]
    },
    {
      "cell_type": "code",
      "execution_count": 2,
      "metadata": {
        "id": "DS8rYMGYmYTw",
        "colab": {
          "base_uri": "https://localhost:8080/"
        },
        "outputId": "57f6885c-0b64-4818-be23-d0ce51039b2d"
      },
      "outputs": [
        {
          "output_type": "stream",
          "name": "stdout",
          "text": [
            "Requirement already satisfied: scikeras in /usr/local/lib/python3.11/dist-packages (0.13.0)\n",
            "Requirement already satisfied: keras>=3.2.0 in /usr/local/lib/python3.11/dist-packages (from scikeras) (3.8.0)\n",
            "Requirement already satisfied: scikit-learn>=1.4.2 in /usr/local/lib/python3.11/dist-packages (from scikeras) (1.6.1)\n",
            "Requirement already satisfied: absl-py in /usr/local/lib/python3.11/dist-packages (from keras>=3.2.0->scikeras) (1.4.0)\n",
            "Requirement already satisfied: numpy in /usr/local/lib/python3.11/dist-packages (from keras>=3.2.0->scikeras) (2.0.2)\n",
            "Requirement already satisfied: rich in /usr/local/lib/python3.11/dist-packages (from keras>=3.2.0->scikeras) (13.9.4)\n",
            "Requirement already satisfied: namex in /usr/local/lib/python3.11/dist-packages (from keras>=3.2.0->scikeras) (0.0.9)\n",
            "Requirement already satisfied: h5py in /usr/local/lib/python3.11/dist-packages (from keras>=3.2.0->scikeras) (3.13.0)\n",
            "Requirement already satisfied: optree in /usr/local/lib/python3.11/dist-packages (from keras>=3.2.0->scikeras) (0.15.0)\n",
            "Requirement already satisfied: ml-dtypes in /usr/local/lib/python3.11/dist-packages (from keras>=3.2.0->scikeras) (0.4.1)\n",
            "Requirement already satisfied: packaging in /usr/local/lib/python3.11/dist-packages (from keras>=3.2.0->scikeras) (24.2)\n",
            "Requirement already satisfied: scipy>=1.6.0 in /usr/local/lib/python3.11/dist-packages (from scikit-learn>=1.4.2->scikeras) (1.15.2)\n",
            "Requirement already satisfied: joblib>=1.2.0 in /usr/local/lib/python3.11/dist-packages (from scikit-learn>=1.4.2->scikeras) (1.4.2)\n",
            "Requirement already satisfied: threadpoolctl>=3.1.0 in /usr/local/lib/python3.11/dist-packages (from scikit-learn>=1.4.2->scikeras) (3.6.0)\n",
            "Requirement already satisfied: typing-extensions>=4.5.0 in /usr/local/lib/python3.11/dist-packages (from optree->keras>=3.2.0->scikeras) (4.13.2)\n",
            "Requirement already satisfied: markdown-it-py>=2.2.0 in /usr/local/lib/python3.11/dist-packages (from rich->keras>=3.2.0->scikeras) (3.0.0)\n",
            "Requirement already satisfied: pygments<3.0.0,>=2.13.0 in /usr/local/lib/python3.11/dist-packages (from rich->keras>=3.2.0->scikeras) (2.19.1)\n",
            "Requirement already satisfied: mdurl~=0.1 in /usr/local/lib/python3.11/dist-packages (from markdown-it-py>=2.2.0->rich->keras>=3.2.0->scikeras) (0.1.2)\n"
          ]
        }
      ],
      "source": [
        "import polars as pl\n",
        "import numpy as np\n",
        "import pandas as pd\n",
        "from sklearn.metrics import accuracy_score, confusion_matrix, brier_score_loss\n",
        "from sklearn.model_selection import train_test_split\n",
        "from sklearn.metrics import roc_auc_score\n",
        "from sklearn.compose import ColumnTransformer\n",
        "from sklearn.pipeline import Pipeline\n",
        "from sklearn.impute import SimpleImputer\n",
        "from sklearn.preprocessing import StandardScaler, OneHotEncoder\n",
        "from sklearn.model_selection import train_test_split\n",
        "import tensorflow as tf\n",
        "from tensorflow import keras\n",
        "from tensorflow.keras.models import Sequential\n",
        "from tensorflow.keras.layers import Dense, Dropout\n",
        "from tensorflow.keras.optimizers import Adam\n",
        "from tensorflow.keras.callbacks import EarlyStopping\n",
        "!pip install scikeras\n",
        "from scikeras.wrappers import KerasClassifier"
      ]
    },
    {
      "cell_type": "code",
      "execution_count": null,
      "metadata": {
        "id": "C9dO2hLEjbHU"
      },
      "outputs": [],
      "source": [
        "!pip install kaggle"
      ]
    },
    {
      "cell_type": "code",
      "execution_count": null,
      "metadata": {
        "id": "Vnc-9taqkgDX"
      },
      "outputs": [],
      "source": [
        "import os\n",
        "os.makedirs('/root/.kaggle', exist_ok=True)\n",
        "# Use the file upload widget\n",
        "from google.colab import files\n",
        "files.upload()  # Upload your kaggle.json file here"
      ]
    },
    {
      "cell_type": "code",
      "execution_count": null,
      "metadata": {
        "id": "xwHSfGSdkoLI"
      },
      "outputs": [],
      "source": [
        "!chmod 600 /root/.kaggle/kaggle.json\n",
        "!cp kaggle.json /root/.kaggle/"
      ]
    },
    {
      "cell_type": "code",
      "execution_count": null,
      "metadata": {
        "id": "clV1RzEWlJP6"
      },
      "outputs": [],
      "source": [
        "!kaggle competitions download -c home-credit-credit-risk-model-stability"
      ]
    },
    {
      "cell_type": "code",
      "execution_count": 3,
      "metadata": {
        "id": "FGrgVIVemcex"
      },
      "outputs": [],
      "source": [
        "def set_table_dtypes(df: pl.DataFrame) -> pl.DataFrame:\n",
        "    # implement here all desired dtypes for tables\n",
        "    # the following is just an example\n",
        "    for col in df.columns:\n",
        "        # last letter of column name will help you determine the type\n",
        "        if col[-1] in (\"P\", \"A\"):\n",
        "            df = df.with_columns(pl.col(col).cast(pl.Float64).alias(col))\n",
        "\n",
        "    return df\n",
        "\n",
        "def convert_strings(df: pd.DataFrame) -> pd.DataFrame:\n",
        "    for col in df.columns:\n",
        "        if df[col].dtype.name in ['object', 'string']:\n",
        "            df[col] = df[col].astype(\"string\").astype('category')\n",
        "            current_categories = df[col].cat.categories\n",
        "            new_categories = current_categories.to_list() + [\"Unknown\"]\n",
        "            new_dtype = pd.CategoricalDtype(categories=new_categories, ordered=True)\n",
        "            df[col] = df[col].astype(new_dtype)\n",
        "    return df"
      ]
    },
    {
      "cell_type": "code",
      "execution_count": null,
      "metadata": {
        "id": "aO9Psj6Dm-nj"
      },
      "outputs": [],
      "source": [
        "!unzip home-credit-credit-risk-model-stability.zip"
      ]
    },
    {
      "cell_type": "code",
      "execution_count": 4,
      "metadata": {
        "id": "MdFVRy6YpVvf"
      },
      "outputs": [],
      "source": [
        "dataPath = \"/content/\""
      ]
    },
    {
      "cell_type": "code",
      "execution_count": 5,
      "metadata": {
        "id": "aBHknf2TpWUR"
      },
      "outputs": [],
      "source": [
        "train_basetable = pl.read_csv(dataPath + \"csv_files/train/train_base.csv\")\n",
        "train_static = pl.concat(\n",
        "    [\n",
        "        pl.read_csv(dataPath + \"csv_files/train/train_static_0_0.csv\").pipe(set_table_dtypes),\n",
        "        pl.read_csv(dataPath + \"csv_files/train/train_static_0_1.csv\").pipe(set_table_dtypes),\n",
        "    ],\n",
        "    how=\"vertical_relaxed\",\n",
        ")\n",
        "train_static_cb = pl.read_csv(dataPath + \"csv_files/train/train_static_cb_0.csv\").pipe(set_table_dtypes)\n",
        "train_person_1 = pl.read_csv(dataPath + \"csv_files/train/train_person_1.csv\").pipe(set_table_dtypes)\n",
        "train_credit_bureau_b_2 = pl.read_csv(dataPath + \"csv_files/train/train_credit_bureau_b_2.csv\").pipe(set_table_dtypes)"
      ]
    },
    {
      "cell_type": "code",
      "execution_count": 6,
      "metadata": {
        "id": "KyyTT-ZQp_Rj"
      },
      "outputs": [],
      "source": [
        "test_basetable = pl.read_csv(dataPath + \"csv_files/test/test_base.csv\")\n",
        "test_static = pl.concat(\n",
        "    [\n",
        "        pl.read_csv(dataPath + \"csv_files/test/test_static_0_0.csv\").pipe(set_table_dtypes),\n",
        "        pl.read_csv(dataPath + \"csv_files/test/test_static_0_1.csv\").pipe(set_table_dtypes),\n",
        "        pl.read_csv(dataPath + \"csv_files/test/test_static_0_2.csv\").pipe(set_table_dtypes),\n",
        "    ],\n",
        "    how=\"vertical_relaxed\",\n",
        ")\n",
        "test_static_cb = pl.read_csv(dataPath + \"csv_files/test/test_static_cb_0.csv\").pipe(set_table_dtypes)\n",
        "test_person_1 = pl.read_csv(dataPath + \"csv_files/test/test_person_1.csv\").pipe(set_table_dtypes)\n",
        "test_credit_bureau_b_2 = pl.read_csv(dataPath + \"csv_files/test/test_credit_bureau_b_2.csv\").pipe(set_table_dtypes)"
      ]
    },
    {
      "cell_type": "markdown",
      "metadata": {
        "id": "9W0uKZmOqKGF"
      },
      "source": [
        "# Join Tables & Feature Engineering"
      ]
    },
    {
      "cell_type": "code",
      "execution_count": 7,
      "metadata": {
        "colab": {
          "base_uri": "https://localhost:8080/"
        },
        "id": "QiSIaK_GqUqW",
        "outputId": "e2cde0b6-b43c-4cd4-c54c-2bd374588dd8"
      },
      "outputs": [
        {
          "output_type": "stream",
          "name": "stdout",
          "text": [
            "['amtinstpaidbefduel24m_4187115A', 'annuity_780A', 'annuitynextmonth_57A', 'avginstallast24m_3658937A', 'avglnamtstart24m_4525187A', 'avgoutstandbalancel6m_4187114A', 'avgpmtlast12m_4525200A', 'credamount_770A', 'currdebt_22A', 'currdebtcredtyperange_828A', 'disbursedcredamount_1113A', 'downpmt_116A', 'inittransactionamount_650A', 'lastapprcommoditycat_1041M', 'lastapprcommoditytypec_5251766M', 'lastapprcredamount_781A', 'lastcancelreason_561M', 'lastotherinc_902A', 'lastotherlnsexpense_631A', 'lastrejectcommoditycat_161M', 'lastrejectcommodtypec_5251769M', 'lastrejectcredamount_222A', 'lastrejectreason_759M', 'lastrejectreasonclient_4145040M', 'maininc_215A', 'maxannuity_159A', 'maxannuity_4075009A', 'maxdebt4_972A', 'maxinstallast24m_3658928A', 'maxlnamtstart6m_4525199A', 'maxoutstandbalancel12m_4187113A', 'maxpmtlast3m_4525190A', 'previouscontdistrict_112M', 'price_1097A', 'sumoutstandtotal_3546847A', 'sumoutstandtotalest_4493215A', 'totaldebt_9A', 'totalsettled_863A', 'totinstallast1m_4525188A']\n",
            "['description_5085714M', 'education_1103M', 'education_88M', 'maritalst_385M', 'maritalst_893M', 'pmtaverage_3A', 'pmtaverage_4527227A', 'pmtaverage_4955615A', 'pmtssum_45A']\n"
          ]
        }
      ],
      "source": [
        "# We need to use aggregation functions in tables with depth > 1, so tables that contain num_group1 column or also num_group2 column.\n",
        "train_person_1_feats_1 = train_person_1.group_by(\"case_id\").agg(\n",
        "    pl.col(\"mainoccupationinc_384A\").max().alias(\"mainoccupationinc_384A_max\"),\n",
        "    (pl.col(\"incometype_1044T\") == \"SELFEMPLOYED\").max().alias(\"mainoccupationinc_384A_any_selfemployed\")\n",
        ")\n",
        "\n",
        "# Here num_group1=0 has special meaning, it is the person who applied for the loan.\n",
        "train_person_1_feats_2 = train_person_1.select([\"case_id\", \"num_group1\", \"housetype_905L\"]).filter(\n",
        "    pl.col(\"num_group1\") == 0\n",
        ").drop(\"num_group1\").rename({\"housetype_905L\": \"person_housetype\"})\n",
        "\n",
        "# Here we have num_goup1 and num_group2, so we need to aggregate again.\n",
        "train_credit_bureau_b_2_feats = train_credit_bureau_b_2.group_by(\"case_id\").agg(\n",
        "    pl.col(\"pmts_pmtsoverdue_635A\").max().alias(\"pmts_pmtsoverdue_635A_max\"),\n",
        "    (pl.col(\"pmts_dpdvalue_108P\") > 31).max().alias(\"pmts_dpdvalue_108P_over31\")\n",
        ")\n",
        "\n",
        "# We will process in this examples only A-type and M-type columns, so we need to select them.\n",
        "selected_static_cols = []\n",
        "for col in train_static.columns:\n",
        "    if col[-1] in (\"A\", \"M\"):\n",
        "        selected_static_cols.append(col)\n",
        "print(selected_static_cols)\n",
        "\n",
        "selected_static_cb_cols = []\n",
        "for col in train_static_cb.columns:\n",
        "    if col[-1] in (\"A\", \"M\"):\n",
        "        selected_static_cb_cols.append(col)\n",
        "print(selected_static_cb_cols)\n",
        "\n",
        "# Join all tables together.\n",
        "data = train_basetable.join(\n",
        "    train_static.select([\"case_id\"]+selected_static_cols), how=\"left\", on=\"case_id\"\n",
        ").join(\n",
        "    train_static_cb.select([\"case_id\"]+selected_static_cb_cols), how=\"left\", on=\"case_id\"\n",
        ").join(\n",
        "    train_person_1_feats_1, how=\"left\", on=\"case_id\"\n",
        ").join(\n",
        "    train_person_1_feats_2, how=\"left\", on=\"case_id\"\n",
        ").join(\n",
        "    train_credit_bureau_b_2_feats, how=\"left\", on=\"case_id\"\n",
        ")"
      ]
    },
    {
      "cell_type": "code",
      "execution_count": 8,
      "metadata": {
        "id": "mYYttDt4qkqD"
      },
      "outputs": [],
      "source": [
        "test_person_1_feats_1 = test_person_1.group_by(\"case_id\").agg(\n",
        "    pl.col(\"mainoccupationinc_384A\").max().alias(\"mainoccupationinc_384A_max\"),\n",
        "    (pl.col(\"incometype_1044T\") == \"SELFEMPLOYED\").max().alias(\"mainoccupationinc_384A_any_selfemployed\")\n",
        ")\n",
        "\n",
        "test_person_1_feats_2 = test_person_1.select([\"case_id\", \"num_group1\", \"housetype_905L\"]).filter(\n",
        "    pl.col(\"num_group1\") == 0\n",
        ").drop(\"num_group1\").rename({\"housetype_905L\": \"person_housetype\"})\n",
        "\n",
        "test_credit_bureau_b_2_feats = test_credit_bureau_b_2.group_by(\"case_id\").agg(\n",
        "    pl.col(\"pmts_pmtsoverdue_635A\").max().alias(\"pmts_pmtsoverdue_635A_max\"),\n",
        "    (pl.col(\"pmts_dpdvalue_108P\") > 31).max().alias(\"pmts_dpdvalue_108P_over31\")\n",
        ")\n",
        "\n",
        "data_submission = test_basetable.join(\n",
        "    test_static.select([\"case_id\"]+selected_static_cols), how=\"left\", on=\"case_id\"\n",
        ").join(\n",
        "    test_static_cb.select([\"case_id\"]+selected_static_cb_cols), how=\"left\", on=\"case_id\"\n",
        ").join(\n",
        "    test_person_1_feats_1, how=\"left\", on=\"case_id\"\n",
        ").join(\n",
        "    test_person_1_feats_2, how=\"left\", on=\"case_id\"\n",
        ").join(\n",
        "    test_credit_bureau_b_2_feats, how=\"left\", on=\"case_id\"\n",
        ")"
      ]
    },
    {
      "cell_type": "code",
      "source": [
        "data = data.to_pandas()\n",
        "data['date_decision'] = pd.to_datetime(data['date_decision'])\n",
        "print(f\"Date range: {data['date_decision'].min()} to {data['date_decision'].max()}\")\n",
        "print(f\"Week range: {data['WEEK_NUM'].min()} to {data['WEEK_NUM'].max()}\")"
      ],
      "metadata": {
        "id": "DUeU25-Kyfqx",
        "colab": {
          "base_uri": "https://localhost:8080/"
        },
        "outputId": "2c45a985-0015-4d9b-dd4e-534b7ddd1487"
      },
      "execution_count": 9,
      "outputs": [
        {
          "output_type": "stream",
          "name": "stdout",
          "text": [
            "Date range: 2019-01-01 00:00:00 to 2020-10-05 00:00:00\n",
            "Week range: 0 to 91\n"
          ]
        }
      ]
    },
    {
      "cell_type": "code",
      "source": [
        "# Pre-COVID training, COVID validation/testing\n",
        "covid_start = pd.Timestamp('2020-03-01')\n",
        "mid_covid = pd.Timestamp('2020-07-01')\n",
        "\n",
        "# Split data based on these dates\n",
        "train_data = data[data['date_decision'] < covid_start]             # Pre-COVID (Jan 2019-Feb 2020)\n",
        "valid_data = data[(data['date_decision'] >= covid_start) &\n",
        "                  (data['date_decision'] < mid_covid)]            # Early COVID (Mar 2020-Jun 2020)\n",
        "test_data = data[data['date_decision'] >= mid_covid]              # Later COVID (Jul 2020-Oct 2020)\n",
        "\n",
        "# Print split information\n",
        "print(f\"Training (pre-COVID): {len(train_data)} samples ({train_data['date_decision'].min()} to {train_data['date_decision'].max()})\")\n",
        "print(f\"Validation (early COVID): {len(valid_data)} samples ({valid_data['date_decision'].min()} to {valid_data['date_decision'].max()})\")\n",
        "print(f\"Test (later COVID): {len(test_data)} samples ({test_data['date_decision'].min()} to {test_data['date_decision'].max()})\")"
      ],
      "metadata": {
        "id": "BsXf9Fewyg7w",
        "colab": {
          "base_uri": "https://localhost:8080/"
        },
        "outputId": "100cf6b8-0db0-4684-89ff-6e74b9435607"
      },
      "execution_count": 10,
      "outputs": [
        {
          "output_type": "stream",
          "name": "stdout",
          "text": [
            "Training (pre-COVID): 1232695 samples (2019-01-01 00:00:00 to 2020-02-29 00:00:00)\n",
            "Validation (early COVID): 143724 samples (2020-03-01 00:00:00 to 2020-06-30 00:00:00)\n",
            "Test (later COVID): 150240 samples (2020-07-01 00:00:00 to 2020-10-05 00:00:00)\n"
          ]
        }
      ]
    },
    {
      "cell_type": "code",
      "execution_count": 11,
      "metadata": {
        "colab": {
          "base_uri": "https://localhost:8080/"
        },
        "id": "5q6ZQdvarJP_",
        "outputId": "817df522-4661-47cb-ae43-0c099d14f9e3"
      },
      "outputs": [
        {
          "output_type": "stream",
          "name": "stdout",
          "text": [
            "['amtinstpaidbefduel24m_4187115A', 'annuity_780A', 'annuitynextmonth_57A', 'avginstallast24m_3658937A', 'avglnamtstart24m_4525187A', 'avgoutstandbalancel6m_4187114A', 'avgpmtlast12m_4525200A', 'credamount_770A', 'currdebt_22A', 'currdebtcredtyperange_828A', 'disbursedcredamount_1113A', 'downpmt_116A', 'inittransactionamount_650A', 'lastapprcommoditycat_1041M', 'lastapprcommoditytypec_5251766M', 'lastapprcredamount_781A', 'lastcancelreason_561M', 'lastotherinc_902A', 'lastotherlnsexpense_631A', 'lastrejectcommoditycat_161M', 'lastrejectcommodtypec_5251769M', 'lastrejectcredamount_222A', 'lastrejectreason_759M', 'lastrejectreasonclient_4145040M', 'maininc_215A', 'maxannuity_159A', 'maxannuity_4075009A', 'maxdebt4_972A', 'maxinstallast24m_3658928A', 'maxlnamtstart6m_4525199A', 'maxoutstandbalancel12m_4187113A', 'maxpmtlast3m_4525190A', 'previouscontdistrict_112M', 'price_1097A', 'sumoutstandtotal_3546847A', 'sumoutstandtotalest_4493215A', 'totaldebt_9A', 'totalsettled_863A', 'totinstallast1m_4525188A', 'description_5085714M', 'education_1103M', 'education_88M', 'maritalst_385M', 'maritalst_893M', 'pmtaverage_3A', 'pmtaverage_4527227A', 'pmtaverage_4955615A', 'pmtssum_45A']\n"
          ]
        },
        {
          "output_type": "stream",
          "name": "stderr",
          "text": [
            "<ipython-input-3-601ef9b9fd56>:14: SettingWithCopyWarning: \n",
            "A value is trying to be set on a copy of a slice from a DataFrame.\n",
            "Try using .loc[row_indexer,col_indexer] = value instead\n",
            "\n",
            "See the caveats in the documentation: https://pandas.pydata.org/pandas-docs/stable/user_guide/indexing.html#returning-a-view-versus-a-copy\n",
            "  df[col] = df[col].astype(\"string\").astype('category')\n",
            "<ipython-input-3-601ef9b9fd56>:18: SettingWithCopyWarning: \n",
            "A value is trying to be set on a copy of a slice from a DataFrame.\n",
            "Try using .loc[row_indexer,col_indexer] = value instead\n",
            "\n",
            "See the caveats in the documentation: https://pandas.pydata.org/pandas-docs/stable/user_guide/indexing.html#returning-a-view-versus-a-copy\n",
            "  df[col] = df[col].astype(new_dtype)\n",
            "<ipython-input-3-601ef9b9fd56>:14: SettingWithCopyWarning: \n",
            "A value is trying to be set on a copy of a slice from a DataFrame.\n",
            "Try using .loc[row_indexer,col_indexer] = value instead\n",
            "\n",
            "See the caveats in the documentation: https://pandas.pydata.org/pandas-docs/stable/user_guide/indexing.html#returning-a-view-versus-a-copy\n",
            "  df[col] = df[col].astype(\"string\").astype('category')\n",
            "<ipython-input-3-601ef9b9fd56>:18: SettingWithCopyWarning: \n",
            "A value is trying to be set on a copy of a slice from a DataFrame.\n",
            "Try using .loc[row_indexer,col_indexer] = value instead\n",
            "\n",
            "See the caveats in the documentation: https://pandas.pydata.org/pandas-docs/stable/user_guide/indexing.html#returning-a-view-versus-a-copy\n",
            "  df[col] = df[col].astype(new_dtype)\n",
            "<ipython-input-3-601ef9b9fd56>:14: SettingWithCopyWarning: \n",
            "A value is trying to be set on a copy of a slice from a DataFrame.\n",
            "Try using .loc[row_indexer,col_indexer] = value instead\n",
            "\n",
            "See the caveats in the documentation: https://pandas.pydata.org/pandas-docs/stable/user_guide/indexing.html#returning-a-view-versus-a-copy\n",
            "  df[col] = df[col].astype(\"string\").astype('category')\n",
            "<ipython-input-3-601ef9b9fd56>:18: SettingWithCopyWarning: \n",
            "A value is trying to be set on a copy of a slice from a DataFrame.\n",
            "Try using .loc[row_indexer,col_indexer] = value instead\n",
            "\n",
            "See the caveats in the documentation: https://pandas.pydata.org/pandas-docs/stable/user_guide/indexing.html#returning-a-view-versus-a-copy\n",
            "  df[col] = df[col].astype(new_dtype)\n",
            "<ipython-input-3-601ef9b9fd56>:14: SettingWithCopyWarning: \n",
            "A value is trying to be set on a copy of a slice from a DataFrame.\n",
            "Try using .loc[row_indexer,col_indexer] = value instead\n",
            "\n",
            "See the caveats in the documentation: https://pandas.pydata.org/pandas-docs/stable/user_guide/indexing.html#returning-a-view-versus-a-copy\n",
            "  df[col] = df[col].astype(\"string\").astype('category')\n",
            "<ipython-input-3-601ef9b9fd56>:18: SettingWithCopyWarning: \n",
            "A value is trying to be set on a copy of a slice from a DataFrame.\n",
            "Try using .loc[row_indexer,col_indexer] = value instead\n",
            "\n",
            "See the caveats in the documentation: https://pandas.pydata.org/pandas-docs/stable/user_guide/indexing.html#returning-a-view-versus-a-copy\n",
            "  df[col] = df[col].astype(new_dtype)\n",
            "<ipython-input-3-601ef9b9fd56>:14: SettingWithCopyWarning: \n",
            "A value is trying to be set on a copy of a slice from a DataFrame.\n",
            "Try using .loc[row_indexer,col_indexer] = value instead\n",
            "\n",
            "See the caveats in the documentation: https://pandas.pydata.org/pandas-docs/stable/user_guide/indexing.html#returning-a-view-versus-a-copy\n",
            "  df[col] = df[col].astype(\"string\").astype('category')\n",
            "<ipython-input-3-601ef9b9fd56>:18: SettingWithCopyWarning: \n",
            "A value is trying to be set on a copy of a slice from a DataFrame.\n",
            "Try using .loc[row_indexer,col_indexer] = value instead\n",
            "\n",
            "See the caveats in the documentation: https://pandas.pydata.org/pandas-docs/stable/user_guide/indexing.html#returning-a-view-versus-a-copy\n",
            "  df[col] = df[col].astype(new_dtype)\n",
            "<ipython-input-3-601ef9b9fd56>:14: SettingWithCopyWarning: \n",
            "A value is trying to be set on a copy of a slice from a DataFrame.\n",
            "Try using .loc[row_indexer,col_indexer] = value instead\n",
            "\n",
            "See the caveats in the documentation: https://pandas.pydata.org/pandas-docs/stable/user_guide/indexing.html#returning-a-view-versus-a-copy\n",
            "  df[col] = df[col].astype(\"string\").astype('category')\n",
            "<ipython-input-3-601ef9b9fd56>:18: SettingWithCopyWarning: \n",
            "A value is trying to be set on a copy of a slice from a DataFrame.\n",
            "Try using .loc[row_indexer,col_indexer] = value instead\n",
            "\n",
            "See the caveats in the documentation: https://pandas.pydata.org/pandas-docs/stable/user_guide/indexing.html#returning-a-view-versus-a-copy\n",
            "  df[col] = df[col].astype(new_dtype)\n",
            "<ipython-input-3-601ef9b9fd56>:14: SettingWithCopyWarning: \n",
            "A value is trying to be set on a copy of a slice from a DataFrame.\n",
            "Try using .loc[row_indexer,col_indexer] = value instead\n",
            "\n",
            "See the caveats in the documentation: https://pandas.pydata.org/pandas-docs/stable/user_guide/indexing.html#returning-a-view-versus-a-copy\n",
            "  df[col] = df[col].astype(\"string\").astype('category')\n",
            "<ipython-input-3-601ef9b9fd56>:18: SettingWithCopyWarning: \n",
            "A value is trying to be set on a copy of a slice from a DataFrame.\n",
            "Try using .loc[row_indexer,col_indexer] = value instead\n",
            "\n",
            "See the caveats in the documentation: https://pandas.pydata.org/pandas-docs/stable/user_guide/indexing.html#returning-a-view-versus-a-copy\n",
            "  df[col] = df[col].astype(new_dtype)\n",
            "<ipython-input-3-601ef9b9fd56>:14: SettingWithCopyWarning: \n",
            "A value is trying to be set on a copy of a slice from a DataFrame.\n",
            "Try using .loc[row_indexer,col_indexer] = value instead\n",
            "\n",
            "See the caveats in the documentation: https://pandas.pydata.org/pandas-docs/stable/user_guide/indexing.html#returning-a-view-versus-a-copy\n",
            "  df[col] = df[col].astype(\"string\").astype('category')\n",
            "<ipython-input-3-601ef9b9fd56>:18: SettingWithCopyWarning: \n",
            "A value is trying to be set on a copy of a slice from a DataFrame.\n",
            "Try using .loc[row_indexer,col_indexer] = value instead\n",
            "\n",
            "See the caveats in the documentation: https://pandas.pydata.org/pandas-docs/stable/user_guide/indexing.html#returning-a-view-versus-a-copy\n",
            "  df[col] = df[col].astype(new_dtype)\n",
            "<ipython-input-3-601ef9b9fd56>:14: SettingWithCopyWarning: \n",
            "A value is trying to be set on a copy of a slice from a DataFrame.\n",
            "Try using .loc[row_indexer,col_indexer] = value instead\n",
            "\n",
            "See the caveats in the documentation: https://pandas.pydata.org/pandas-docs/stable/user_guide/indexing.html#returning-a-view-versus-a-copy\n",
            "  df[col] = df[col].astype(\"string\").astype('category')\n",
            "<ipython-input-3-601ef9b9fd56>:18: SettingWithCopyWarning: \n",
            "A value is trying to be set on a copy of a slice from a DataFrame.\n",
            "Try using .loc[row_indexer,col_indexer] = value instead\n",
            "\n",
            "See the caveats in the documentation: https://pandas.pydata.org/pandas-docs/stable/user_guide/indexing.html#returning-a-view-versus-a-copy\n",
            "  df[col] = df[col].astype(new_dtype)\n",
            "<ipython-input-3-601ef9b9fd56>:14: SettingWithCopyWarning: \n",
            "A value is trying to be set on a copy of a slice from a DataFrame.\n",
            "Try using .loc[row_indexer,col_indexer] = value instead\n",
            "\n",
            "See the caveats in the documentation: https://pandas.pydata.org/pandas-docs/stable/user_guide/indexing.html#returning-a-view-versus-a-copy\n",
            "  df[col] = df[col].astype(\"string\").astype('category')\n",
            "<ipython-input-3-601ef9b9fd56>:18: SettingWithCopyWarning: \n",
            "A value is trying to be set on a copy of a slice from a DataFrame.\n",
            "Try using .loc[row_indexer,col_indexer] = value instead\n",
            "\n",
            "See the caveats in the documentation: https://pandas.pydata.org/pandas-docs/stable/user_guide/indexing.html#returning-a-view-versus-a-copy\n",
            "  df[col] = df[col].astype(new_dtype)\n",
            "<ipython-input-3-601ef9b9fd56>:14: SettingWithCopyWarning: \n",
            "A value is trying to be set on a copy of a slice from a DataFrame.\n",
            "Try using .loc[row_indexer,col_indexer] = value instead\n",
            "\n",
            "See the caveats in the documentation: https://pandas.pydata.org/pandas-docs/stable/user_guide/indexing.html#returning-a-view-versus-a-copy\n",
            "  df[col] = df[col].astype(\"string\").astype('category')\n",
            "<ipython-input-3-601ef9b9fd56>:18: SettingWithCopyWarning: \n",
            "A value is trying to be set on a copy of a slice from a DataFrame.\n",
            "Try using .loc[row_indexer,col_indexer] = value instead\n",
            "\n",
            "See the caveats in the documentation: https://pandas.pydata.org/pandas-docs/stable/user_guide/indexing.html#returning-a-view-versus-a-copy\n",
            "  df[col] = df[col].astype(new_dtype)\n",
            "<ipython-input-3-601ef9b9fd56>:14: SettingWithCopyWarning: \n",
            "A value is trying to be set on a copy of a slice from a DataFrame.\n",
            "Try using .loc[row_indexer,col_indexer] = value instead\n",
            "\n",
            "See the caveats in the documentation: https://pandas.pydata.org/pandas-docs/stable/user_guide/indexing.html#returning-a-view-versus-a-copy\n",
            "  df[col] = df[col].astype(\"string\").astype('category')\n",
            "<ipython-input-3-601ef9b9fd56>:18: SettingWithCopyWarning: \n",
            "A value is trying to be set on a copy of a slice from a DataFrame.\n",
            "Try using .loc[row_indexer,col_indexer] = value instead\n",
            "\n",
            "See the caveats in the documentation: https://pandas.pydata.org/pandas-docs/stable/user_guide/indexing.html#returning-a-view-versus-a-copy\n",
            "  df[col] = df[col].astype(new_dtype)\n",
            "<ipython-input-3-601ef9b9fd56>:14: SettingWithCopyWarning: \n",
            "A value is trying to be set on a copy of a slice from a DataFrame.\n",
            "Try using .loc[row_indexer,col_indexer] = value instead\n",
            "\n",
            "See the caveats in the documentation: https://pandas.pydata.org/pandas-docs/stable/user_guide/indexing.html#returning-a-view-versus-a-copy\n",
            "  df[col] = df[col].astype(\"string\").astype('category')\n",
            "<ipython-input-3-601ef9b9fd56>:18: SettingWithCopyWarning: \n",
            "A value is trying to be set on a copy of a slice from a DataFrame.\n",
            "Try using .loc[row_indexer,col_indexer] = value instead\n",
            "\n",
            "See the caveats in the documentation: https://pandas.pydata.org/pandas-docs/stable/user_guide/indexing.html#returning-a-view-versus-a-copy\n",
            "  df[col] = df[col].astype(new_dtype)\n",
            "<ipython-input-3-601ef9b9fd56>:14: SettingWithCopyWarning: \n",
            "A value is trying to be set on a copy of a slice from a DataFrame.\n",
            "Try using .loc[row_indexer,col_indexer] = value instead\n",
            "\n",
            "See the caveats in the documentation: https://pandas.pydata.org/pandas-docs/stable/user_guide/indexing.html#returning-a-view-versus-a-copy\n",
            "  df[col] = df[col].astype(\"string\").astype('category')\n",
            "<ipython-input-3-601ef9b9fd56>:18: SettingWithCopyWarning: \n",
            "A value is trying to be set on a copy of a slice from a DataFrame.\n",
            "Try using .loc[row_indexer,col_indexer] = value instead\n",
            "\n",
            "See the caveats in the documentation: https://pandas.pydata.org/pandas-docs/stable/user_guide/indexing.html#returning-a-view-versus-a-copy\n",
            "  df[col] = df[col].astype(new_dtype)\n",
            "<ipython-input-3-601ef9b9fd56>:14: SettingWithCopyWarning: \n",
            "A value is trying to be set on a copy of a slice from a DataFrame.\n",
            "Try using .loc[row_indexer,col_indexer] = value instead\n",
            "\n",
            "See the caveats in the documentation: https://pandas.pydata.org/pandas-docs/stable/user_guide/indexing.html#returning-a-view-versus-a-copy\n",
            "  df[col] = df[col].astype(\"string\").astype('category')\n",
            "<ipython-input-3-601ef9b9fd56>:18: SettingWithCopyWarning: \n",
            "A value is trying to be set on a copy of a slice from a DataFrame.\n",
            "Try using .loc[row_indexer,col_indexer] = value instead\n",
            "\n",
            "See the caveats in the documentation: https://pandas.pydata.org/pandas-docs/stable/user_guide/indexing.html#returning-a-view-versus-a-copy\n",
            "  df[col] = df[col].astype(new_dtype)\n",
            "<ipython-input-3-601ef9b9fd56>:14: SettingWithCopyWarning: \n",
            "A value is trying to be set on a copy of a slice from a DataFrame.\n",
            "Try using .loc[row_indexer,col_indexer] = value instead\n",
            "\n",
            "See the caveats in the documentation: https://pandas.pydata.org/pandas-docs/stable/user_guide/indexing.html#returning-a-view-versus-a-copy\n",
            "  df[col] = df[col].astype(\"string\").astype('category')\n",
            "<ipython-input-3-601ef9b9fd56>:18: SettingWithCopyWarning: \n",
            "A value is trying to be set on a copy of a slice from a DataFrame.\n",
            "Try using .loc[row_indexer,col_indexer] = value instead\n",
            "\n",
            "See the caveats in the documentation: https://pandas.pydata.org/pandas-docs/stable/user_guide/indexing.html#returning-a-view-versus-a-copy\n",
            "  df[col] = df[col].astype(new_dtype)\n",
            "<ipython-input-3-601ef9b9fd56>:14: SettingWithCopyWarning: \n",
            "A value is trying to be set on a copy of a slice from a DataFrame.\n",
            "Try using .loc[row_indexer,col_indexer] = value instead\n",
            "\n",
            "See the caveats in the documentation: https://pandas.pydata.org/pandas-docs/stable/user_guide/indexing.html#returning-a-view-versus-a-copy\n",
            "  df[col] = df[col].astype(\"string\").astype('category')\n",
            "<ipython-input-3-601ef9b9fd56>:18: SettingWithCopyWarning: \n",
            "A value is trying to be set on a copy of a slice from a DataFrame.\n",
            "Try using .loc[row_indexer,col_indexer] = value instead\n",
            "\n",
            "See the caveats in the documentation: https://pandas.pydata.org/pandas-docs/stable/user_guide/indexing.html#returning-a-view-versus-a-copy\n",
            "  df[col] = df[col].astype(new_dtype)\n",
            "<ipython-input-3-601ef9b9fd56>:14: SettingWithCopyWarning: \n",
            "A value is trying to be set on a copy of a slice from a DataFrame.\n",
            "Try using .loc[row_indexer,col_indexer] = value instead\n",
            "\n",
            "See the caveats in the documentation: https://pandas.pydata.org/pandas-docs/stable/user_guide/indexing.html#returning-a-view-versus-a-copy\n",
            "  df[col] = df[col].astype(\"string\").astype('category')\n",
            "<ipython-input-3-601ef9b9fd56>:18: SettingWithCopyWarning: \n",
            "A value is trying to be set on a copy of a slice from a DataFrame.\n",
            "Try using .loc[row_indexer,col_indexer] = value instead\n",
            "\n",
            "See the caveats in the documentation: https://pandas.pydata.org/pandas-docs/stable/user_guide/indexing.html#returning-a-view-versus-a-copy\n",
            "  df[col] = df[col].astype(new_dtype)\n",
            "<ipython-input-3-601ef9b9fd56>:14: SettingWithCopyWarning: \n",
            "A value is trying to be set on a copy of a slice from a DataFrame.\n",
            "Try using .loc[row_indexer,col_indexer] = value instead\n",
            "\n",
            "See the caveats in the documentation: https://pandas.pydata.org/pandas-docs/stable/user_guide/indexing.html#returning-a-view-versus-a-copy\n",
            "  df[col] = df[col].astype(\"string\").astype('category')\n",
            "<ipython-input-3-601ef9b9fd56>:18: SettingWithCopyWarning: \n",
            "A value is trying to be set on a copy of a slice from a DataFrame.\n",
            "Try using .loc[row_indexer,col_indexer] = value instead\n",
            "\n",
            "See the caveats in the documentation: https://pandas.pydata.org/pandas-docs/stable/user_guide/indexing.html#returning-a-view-versus-a-copy\n",
            "  df[col] = df[col].astype(new_dtype)\n",
            "<ipython-input-3-601ef9b9fd56>:14: SettingWithCopyWarning: \n",
            "A value is trying to be set on a copy of a slice from a DataFrame.\n",
            "Try using .loc[row_indexer,col_indexer] = value instead\n",
            "\n",
            "See the caveats in the documentation: https://pandas.pydata.org/pandas-docs/stable/user_guide/indexing.html#returning-a-view-versus-a-copy\n",
            "  df[col] = df[col].astype(\"string\").astype('category')\n",
            "<ipython-input-3-601ef9b9fd56>:18: SettingWithCopyWarning: \n",
            "A value is trying to be set on a copy of a slice from a DataFrame.\n",
            "Try using .loc[row_indexer,col_indexer] = value instead\n",
            "\n",
            "See the caveats in the documentation: https://pandas.pydata.org/pandas-docs/stable/user_guide/indexing.html#returning-a-view-versus-a-copy\n",
            "  df[col] = df[col].astype(new_dtype)\n",
            "<ipython-input-3-601ef9b9fd56>:14: SettingWithCopyWarning: \n",
            "A value is trying to be set on a copy of a slice from a DataFrame.\n",
            "Try using .loc[row_indexer,col_indexer] = value instead\n",
            "\n",
            "See the caveats in the documentation: https://pandas.pydata.org/pandas-docs/stable/user_guide/indexing.html#returning-a-view-versus-a-copy\n",
            "  df[col] = df[col].astype(\"string\").astype('category')\n",
            "<ipython-input-3-601ef9b9fd56>:18: SettingWithCopyWarning: \n",
            "A value is trying to be set on a copy of a slice from a DataFrame.\n",
            "Try using .loc[row_indexer,col_indexer] = value instead\n",
            "\n",
            "See the caveats in the documentation: https://pandas.pydata.org/pandas-docs/stable/user_guide/indexing.html#returning-a-view-versus-a-copy\n",
            "  df[col] = df[col].astype(new_dtype)\n",
            "<ipython-input-3-601ef9b9fd56>:14: SettingWithCopyWarning: \n",
            "A value is trying to be set on a copy of a slice from a DataFrame.\n",
            "Try using .loc[row_indexer,col_indexer] = value instead\n",
            "\n",
            "See the caveats in the documentation: https://pandas.pydata.org/pandas-docs/stable/user_guide/indexing.html#returning-a-view-versus-a-copy\n",
            "  df[col] = df[col].astype(\"string\").astype('category')\n",
            "<ipython-input-3-601ef9b9fd56>:18: SettingWithCopyWarning: \n",
            "A value is trying to be set on a copy of a slice from a DataFrame.\n",
            "Try using .loc[row_indexer,col_indexer] = value instead\n",
            "\n",
            "See the caveats in the documentation: https://pandas.pydata.org/pandas-docs/stable/user_guide/indexing.html#returning-a-view-versus-a-copy\n",
            "  df[col] = df[col].astype(new_dtype)\n",
            "<ipython-input-3-601ef9b9fd56>:14: SettingWithCopyWarning: \n",
            "A value is trying to be set on a copy of a slice from a DataFrame.\n",
            "Try using .loc[row_indexer,col_indexer] = value instead\n",
            "\n",
            "See the caveats in the documentation: https://pandas.pydata.org/pandas-docs/stable/user_guide/indexing.html#returning-a-view-versus-a-copy\n",
            "  df[col] = df[col].astype(\"string\").astype('category')\n",
            "<ipython-input-3-601ef9b9fd56>:18: SettingWithCopyWarning: \n",
            "A value is trying to be set on a copy of a slice from a DataFrame.\n",
            "Try using .loc[row_indexer,col_indexer] = value instead\n",
            "\n",
            "See the caveats in the documentation: https://pandas.pydata.org/pandas-docs/stable/user_guide/indexing.html#returning-a-view-versus-a-copy\n",
            "  df[col] = df[col].astype(new_dtype)\n",
            "<ipython-input-3-601ef9b9fd56>:14: SettingWithCopyWarning: \n",
            "A value is trying to be set on a copy of a slice from a DataFrame.\n",
            "Try using .loc[row_indexer,col_indexer] = value instead\n",
            "\n",
            "See the caveats in the documentation: https://pandas.pydata.org/pandas-docs/stable/user_guide/indexing.html#returning-a-view-versus-a-copy\n",
            "  df[col] = df[col].astype(\"string\").astype('category')\n",
            "<ipython-input-3-601ef9b9fd56>:18: SettingWithCopyWarning: \n",
            "A value is trying to be set on a copy of a slice from a DataFrame.\n",
            "Try using .loc[row_indexer,col_indexer] = value instead\n",
            "\n",
            "See the caveats in the documentation: https://pandas.pydata.org/pandas-docs/stable/user_guide/indexing.html#returning-a-view-versus-a-copy\n",
            "  df[col] = df[col].astype(new_dtype)\n",
            "<ipython-input-3-601ef9b9fd56>:14: SettingWithCopyWarning: \n",
            "A value is trying to be set on a copy of a slice from a DataFrame.\n",
            "Try using .loc[row_indexer,col_indexer] = value instead\n",
            "\n",
            "See the caveats in the documentation: https://pandas.pydata.org/pandas-docs/stable/user_guide/indexing.html#returning-a-view-versus-a-copy\n",
            "  df[col] = df[col].astype(\"string\").astype('category')\n",
            "<ipython-input-3-601ef9b9fd56>:18: SettingWithCopyWarning: \n",
            "A value is trying to be set on a copy of a slice from a DataFrame.\n",
            "Try using .loc[row_indexer,col_indexer] = value instead\n",
            "\n",
            "See the caveats in the documentation: https://pandas.pydata.org/pandas-docs/stable/user_guide/indexing.html#returning-a-view-versus-a-copy\n",
            "  df[col] = df[col].astype(new_dtype)\n",
            "<ipython-input-3-601ef9b9fd56>:14: SettingWithCopyWarning: \n",
            "A value is trying to be set on a copy of a slice from a DataFrame.\n",
            "Try using .loc[row_indexer,col_indexer] = value instead\n",
            "\n",
            "See the caveats in the documentation: https://pandas.pydata.org/pandas-docs/stable/user_guide/indexing.html#returning-a-view-versus-a-copy\n",
            "  df[col] = df[col].astype(\"string\").astype('category')\n",
            "<ipython-input-3-601ef9b9fd56>:18: SettingWithCopyWarning: \n",
            "A value is trying to be set on a copy of a slice from a DataFrame.\n",
            "Try using .loc[row_indexer,col_indexer] = value instead\n",
            "\n",
            "See the caveats in the documentation: https://pandas.pydata.org/pandas-docs/stable/user_guide/indexing.html#returning-a-view-versus-a-copy\n",
            "  df[col] = df[col].astype(new_dtype)\n",
            "<ipython-input-3-601ef9b9fd56>:14: SettingWithCopyWarning: \n",
            "A value is trying to be set on a copy of a slice from a DataFrame.\n",
            "Try using .loc[row_indexer,col_indexer] = value instead\n",
            "\n",
            "See the caveats in the documentation: https://pandas.pydata.org/pandas-docs/stable/user_guide/indexing.html#returning-a-view-versus-a-copy\n",
            "  df[col] = df[col].astype(\"string\").astype('category')\n",
            "<ipython-input-3-601ef9b9fd56>:18: SettingWithCopyWarning: \n",
            "A value is trying to be set on a copy of a slice from a DataFrame.\n",
            "Try using .loc[row_indexer,col_indexer] = value instead\n",
            "\n",
            "See the caveats in the documentation: https://pandas.pydata.org/pandas-docs/stable/user_guide/indexing.html#returning-a-view-versus-a-copy\n",
            "  df[col] = df[col].astype(new_dtype)\n",
            "<ipython-input-3-601ef9b9fd56>:14: SettingWithCopyWarning: \n",
            "A value is trying to be set on a copy of a slice from a DataFrame.\n",
            "Try using .loc[row_indexer,col_indexer] = value instead\n",
            "\n",
            "See the caveats in the documentation: https://pandas.pydata.org/pandas-docs/stable/user_guide/indexing.html#returning-a-view-versus-a-copy\n",
            "  df[col] = df[col].astype(\"string\").astype('category')\n",
            "<ipython-input-3-601ef9b9fd56>:18: SettingWithCopyWarning: \n",
            "A value is trying to be set on a copy of a slice from a DataFrame.\n",
            "Try using .loc[row_indexer,col_indexer] = value instead\n",
            "\n",
            "See the caveats in the documentation: https://pandas.pydata.org/pandas-docs/stable/user_guide/indexing.html#returning-a-view-versus-a-copy\n",
            "  df[col] = df[col].astype(new_dtype)\n",
            "<ipython-input-3-601ef9b9fd56>:14: SettingWithCopyWarning: \n",
            "A value is trying to be set on a copy of a slice from a DataFrame.\n",
            "Try using .loc[row_indexer,col_indexer] = value instead\n",
            "\n",
            "See the caveats in the documentation: https://pandas.pydata.org/pandas-docs/stable/user_guide/indexing.html#returning-a-view-versus-a-copy\n",
            "  df[col] = df[col].astype(\"string\").astype('category')\n",
            "<ipython-input-3-601ef9b9fd56>:18: SettingWithCopyWarning: \n",
            "A value is trying to be set on a copy of a slice from a DataFrame.\n",
            "Try using .loc[row_indexer,col_indexer] = value instead\n",
            "\n",
            "See the caveats in the documentation: https://pandas.pydata.org/pandas-docs/stable/user_guide/indexing.html#returning-a-view-versus-a-copy\n",
            "  df[col] = df[col].astype(new_dtype)\n",
            "<ipython-input-3-601ef9b9fd56>:14: SettingWithCopyWarning: \n",
            "A value is trying to be set on a copy of a slice from a DataFrame.\n",
            "Try using .loc[row_indexer,col_indexer] = value instead\n",
            "\n",
            "See the caveats in the documentation: https://pandas.pydata.org/pandas-docs/stable/user_guide/indexing.html#returning-a-view-versus-a-copy\n",
            "  df[col] = df[col].astype(\"string\").astype('category')\n",
            "<ipython-input-3-601ef9b9fd56>:18: SettingWithCopyWarning: \n",
            "A value is trying to be set on a copy of a slice from a DataFrame.\n",
            "Try using .loc[row_indexer,col_indexer] = value instead\n",
            "\n",
            "See the caveats in the documentation: https://pandas.pydata.org/pandas-docs/stable/user_guide/indexing.html#returning-a-view-versus-a-copy\n",
            "  df[col] = df[col].astype(new_dtype)\n",
            "<ipython-input-3-601ef9b9fd56>:14: SettingWithCopyWarning: \n",
            "A value is trying to be set on a copy of a slice from a DataFrame.\n",
            "Try using .loc[row_indexer,col_indexer] = value instead\n",
            "\n",
            "See the caveats in the documentation: https://pandas.pydata.org/pandas-docs/stable/user_guide/indexing.html#returning-a-view-versus-a-copy\n",
            "  df[col] = df[col].astype(\"string\").astype('category')\n",
            "<ipython-input-3-601ef9b9fd56>:18: SettingWithCopyWarning: \n",
            "A value is trying to be set on a copy of a slice from a DataFrame.\n",
            "Try using .loc[row_indexer,col_indexer] = value instead\n",
            "\n",
            "See the caveats in the documentation: https://pandas.pydata.org/pandas-docs/stable/user_guide/indexing.html#returning-a-view-versus-a-copy\n",
            "  df[col] = df[col].astype(new_dtype)\n",
            "<ipython-input-3-601ef9b9fd56>:14: SettingWithCopyWarning: \n",
            "A value is trying to be set on a copy of a slice from a DataFrame.\n",
            "Try using .loc[row_indexer,col_indexer] = value instead\n",
            "\n",
            "See the caveats in the documentation: https://pandas.pydata.org/pandas-docs/stable/user_guide/indexing.html#returning-a-view-versus-a-copy\n",
            "  df[col] = df[col].astype(\"string\").astype('category')\n",
            "<ipython-input-3-601ef9b9fd56>:18: SettingWithCopyWarning: \n",
            "A value is trying to be set on a copy of a slice from a DataFrame.\n",
            "Try using .loc[row_indexer,col_indexer] = value instead\n",
            "\n",
            "See the caveats in the documentation: https://pandas.pydata.org/pandas-docs/stable/user_guide/indexing.html#returning-a-view-versus-a-copy\n",
            "  df[col] = df[col].astype(new_dtype)\n",
            "<ipython-input-3-601ef9b9fd56>:14: SettingWithCopyWarning: \n",
            "A value is trying to be set on a copy of a slice from a DataFrame.\n",
            "Try using .loc[row_indexer,col_indexer] = value instead\n",
            "\n",
            "See the caveats in the documentation: https://pandas.pydata.org/pandas-docs/stable/user_guide/indexing.html#returning-a-view-versus-a-copy\n",
            "  df[col] = df[col].astype(\"string\").astype('category')\n",
            "<ipython-input-3-601ef9b9fd56>:18: SettingWithCopyWarning: \n",
            "A value is trying to be set on a copy of a slice from a DataFrame.\n",
            "Try using .loc[row_indexer,col_indexer] = value instead\n",
            "\n",
            "See the caveats in the documentation: https://pandas.pydata.org/pandas-docs/stable/user_guide/indexing.html#returning-a-view-versus-a-copy\n",
            "  df[col] = df[col].astype(new_dtype)\n",
            "<ipython-input-3-601ef9b9fd56>:14: SettingWithCopyWarning: \n",
            "A value is trying to be set on a copy of a slice from a DataFrame.\n",
            "Try using .loc[row_indexer,col_indexer] = value instead\n",
            "\n",
            "See the caveats in the documentation: https://pandas.pydata.org/pandas-docs/stable/user_guide/indexing.html#returning-a-view-versus-a-copy\n",
            "  df[col] = df[col].astype(\"string\").astype('category')\n",
            "<ipython-input-3-601ef9b9fd56>:18: SettingWithCopyWarning: \n",
            "A value is trying to be set on a copy of a slice from a DataFrame.\n",
            "Try using .loc[row_indexer,col_indexer] = value instead\n",
            "\n",
            "See the caveats in the documentation: https://pandas.pydata.org/pandas-docs/stable/user_guide/indexing.html#returning-a-view-versus-a-copy\n",
            "  df[col] = df[col].astype(new_dtype)\n",
            "<ipython-input-3-601ef9b9fd56>:14: SettingWithCopyWarning: \n",
            "A value is trying to be set on a copy of a slice from a DataFrame.\n",
            "Try using .loc[row_indexer,col_indexer] = value instead\n",
            "\n",
            "See the caveats in the documentation: https://pandas.pydata.org/pandas-docs/stable/user_guide/indexing.html#returning-a-view-versus-a-copy\n",
            "  df[col] = df[col].astype(\"string\").astype('category')\n",
            "<ipython-input-3-601ef9b9fd56>:18: SettingWithCopyWarning: \n",
            "A value is trying to be set on a copy of a slice from a DataFrame.\n",
            "Try using .loc[row_indexer,col_indexer] = value instead\n",
            "\n",
            "See the caveats in the documentation: https://pandas.pydata.org/pandas-docs/stable/user_guide/indexing.html#returning-a-view-versus-a-copy\n",
            "  df[col] = df[col].astype(new_dtype)\n",
            "<ipython-input-3-601ef9b9fd56>:14: SettingWithCopyWarning: \n",
            "A value is trying to be set on a copy of a slice from a DataFrame.\n",
            "Try using .loc[row_indexer,col_indexer] = value instead\n",
            "\n",
            "See the caveats in the documentation: https://pandas.pydata.org/pandas-docs/stable/user_guide/indexing.html#returning-a-view-versus-a-copy\n",
            "  df[col] = df[col].astype(\"string\").astype('category')\n",
            "<ipython-input-3-601ef9b9fd56>:18: SettingWithCopyWarning: \n",
            "A value is trying to be set on a copy of a slice from a DataFrame.\n",
            "Try using .loc[row_indexer,col_indexer] = value instead\n",
            "\n",
            "See the caveats in the documentation: https://pandas.pydata.org/pandas-docs/stable/user_guide/indexing.html#returning-a-view-versus-a-copy\n",
            "  df[col] = df[col].astype(new_dtype)\n",
            "<ipython-input-3-601ef9b9fd56>:14: SettingWithCopyWarning: \n",
            "A value is trying to be set on a copy of a slice from a DataFrame.\n",
            "Try using .loc[row_indexer,col_indexer] = value instead\n",
            "\n",
            "See the caveats in the documentation: https://pandas.pydata.org/pandas-docs/stable/user_guide/indexing.html#returning-a-view-versus-a-copy\n",
            "  df[col] = df[col].astype(\"string\").astype('category')\n",
            "<ipython-input-3-601ef9b9fd56>:18: SettingWithCopyWarning: \n",
            "A value is trying to be set on a copy of a slice from a DataFrame.\n",
            "Try using .loc[row_indexer,col_indexer] = value instead\n",
            "\n",
            "See the caveats in the documentation: https://pandas.pydata.org/pandas-docs/stable/user_guide/indexing.html#returning-a-view-versus-a-copy\n",
            "  df[col] = df[col].astype(new_dtype)\n",
            "<ipython-input-3-601ef9b9fd56>:14: SettingWithCopyWarning: \n",
            "A value is trying to be set on a copy of a slice from a DataFrame.\n",
            "Try using .loc[row_indexer,col_indexer] = value instead\n",
            "\n",
            "See the caveats in the documentation: https://pandas.pydata.org/pandas-docs/stable/user_guide/indexing.html#returning-a-view-versus-a-copy\n",
            "  df[col] = df[col].astype(\"string\").astype('category')\n",
            "<ipython-input-3-601ef9b9fd56>:18: SettingWithCopyWarning: \n",
            "A value is trying to be set on a copy of a slice from a DataFrame.\n",
            "Try using .loc[row_indexer,col_indexer] = value instead\n",
            "\n",
            "See the caveats in the documentation: https://pandas.pydata.org/pandas-docs/stable/user_guide/indexing.html#returning-a-view-versus-a-copy\n",
            "  df[col] = df[col].astype(new_dtype)\n",
            "<ipython-input-3-601ef9b9fd56>:14: SettingWithCopyWarning: \n",
            "A value is trying to be set on a copy of a slice from a DataFrame.\n",
            "Try using .loc[row_indexer,col_indexer] = value instead\n",
            "\n",
            "See the caveats in the documentation: https://pandas.pydata.org/pandas-docs/stable/user_guide/indexing.html#returning-a-view-versus-a-copy\n",
            "  df[col] = df[col].astype(\"string\").astype('category')\n",
            "<ipython-input-3-601ef9b9fd56>:18: SettingWithCopyWarning: \n",
            "A value is trying to be set on a copy of a slice from a DataFrame.\n",
            "Try using .loc[row_indexer,col_indexer] = value instead\n",
            "\n",
            "See the caveats in the documentation: https://pandas.pydata.org/pandas-docs/stable/user_guide/indexing.html#returning-a-view-versus-a-copy\n",
            "  df[col] = df[col].astype(new_dtype)\n"
          ]
        }
      ],
      "source": [
        "cols_pred = []\n",
        "for col in data.columns:\n",
        "    if col[-1].isupper() and col[:-1].islower():\n",
        "        cols_pred.append(col)\n",
        "print(cols_pred)\n",
        "\n",
        "base_train = train_data[[\"case_id\", \"WEEK_NUM\",\"MONTH\", \"target\"]]\n",
        "y_train = train_data[\"target\"]\n",
        "X_train = train_data[cols_pred]\n",
        "\n",
        "base_valid = valid_data[[\"case_id\", \"WEEK_NUM\",\"MONTH\", \"target\"]]\n",
        "y_valid = valid_data[\"target\"]\n",
        "X_valid = valid_data[cols_pred]\n",
        "\n",
        "base_test = test_data[[\"case_id\", \"WEEK_NUM\",\"MONTH\", \"target\"]]\n",
        "y_test = test_data[\"target\"]\n",
        "X_test = test_data[cols_pred]\n",
        "\n",
        "for df in [X_train, X_valid, X_test]:\n",
        "    df = convert_strings(df)"
      ]
    },
    {
      "cell_type": "code",
      "execution_count": 12,
      "metadata": {
        "colab": {
          "base_uri": "https://localhost:8080/"
        },
        "id": "r2O3XdIFrQpN",
        "outputId": "a7e8ab89-5b6b-40a3-c99e-5334f3fe466b"
      },
      "outputs": [
        {
          "output_type": "stream",
          "name": "stdout",
          "text": [
            "Train: (1232695, 48)\n",
            "Valid: (143724, 48)\n",
            "Test: (150240, 48)\n"
          ]
        }
      ],
      "source": [
        "print(f\"Train: {X_train.shape}\")\n",
        "print(f\"Valid: {X_valid.shape}\")\n",
        "print(f\"Test: {X_test.shape}\")"
      ]
    },
    {
      "cell_type": "code",
      "execution_count": 13,
      "metadata": {
        "colab": {
          "base_uri": "https://localhost:8080/"
        },
        "id": "mDdLi8GxrSNO",
        "outputId": "5a276b2b-dc2a-462f-b4f8-a0453f322d6d"
      },
      "outputs": [
        {
          "output_type": "stream",
          "name": "stdout",
          "text": [
            "Train: (1232695,)\n",
            "Valid: (143724,)\n",
            "Test: (150240,)\n"
          ]
        }
      ],
      "source": [
        "print(f\"Train: {y_train.shape}\")\n",
        "print(f\"Valid: {y_valid.shape}\")\n",
        "print(f\"Test: {y_test.shape}\")"
      ]
    },
    {
      "cell_type": "markdown",
      "metadata": {
        "id": "xTbHrW_ArxGG"
      },
      "source": [
        "# Reduce Memory Usage"
      ]
    },
    {
      "cell_type": "code",
      "execution_count": 14,
      "metadata": {
        "id": "LcLCLKmVrzea"
      },
      "outputs": [],
      "source": [
        "def reduce_mem_usage(df):\n",
        "    \"\"\" iterate through all the columns of a dataframe and modify the data type\n",
        "        to reduce memory usage.\n",
        "    \"\"\"\n",
        "    start_mem = df.memory_usage().sum() / 1024**2\n",
        "\n",
        "    for col in df.columns:\n",
        "        col_type = df[col].dtype\n",
        "        if str(col_type)==\"category\":\n",
        "            continue\n",
        "\n",
        "        if col_type != object:\n",
        "            c_min = df[col].min()\n",
        "            c_max = df[col].max()\n",
        "            if str(col_type)[:3] == 'int':\n",
        "                if c_min > np.iinfo(np.int8).min and c_max < np.iinfo(np.int8).max:\n",
        "                    df[col] = df[col].astype(np.int8)\n",
        "                elif c_min > np.iinfo(np.int16).min and c_max < np.iinfo(np.int16).max:\n",
        "                    df[col] = df[col].astype(np.int16)\n",
        "                elif c_min > np.iinfo(np.int32).min and c_max < np.iinfo(np.int32).max:\n",
        "                    df[col] = df[col].astype(np.int32)\n",
        "                elif c_min > np.iinfo(np.int64).min and c_max < np.iinfo(np.int64).max:\n",
        "                    df[col] = df[col].astype(np.int64)\n",
        "            else:\n",
        "                if c_min > np.finfo(np.float16).min and c_max < np.finfo(np.float16).max:\n",
        "                    df[col] = df[col].astype(np.float16)\n",
        "                elif c_min > np.finfo(np.float32).min and c_max < np.finfo(np.float32).max:\n",
        "                    df[col] = df[col].astype(np.float32)\n",
        "                else:\n",
        "                    df[col] = df[col].astype(np.float64)\n",
        "        else:\n",
        "            continue\n",
        "    end_mem = df.memory_usage().sum() / 1024**2\n",
        "    return df"
      ]
    },
    {
      "cell_type": "code",
      "execution_count": 15,
      "metadata": {
        "colab": {
          "base_uri": "https://localhost:8080/"
        },
        "id": "6nIm-i6Ar4Aq",
        "outputId": "aad798fd-72a8-4475-bf76-d5b4b0c90a0c"
      },
      "outputs": [
        {
          "output_type": "stream",
          "name": "stderr",
          "text": [
            "<ipython-input-14-b5f18661dcfe>:25: RuntimeWarning: overflow encountered in cast\n",
            "  if c_min > np.finfo(np.float16).min and c_max < np.finfo(np.float16).max:\n",
            "<ipython-input-14-b5f18661dcfe>:28: SettingWithCopyWarning: \n",
            "A value is trying to be set on a copy of a slice from a DataFrame.\n",
            "Try using .loc[row_indexer,col_indexer] = value instead\n",
            "\n",
            "See the caveats in the documentation: https://pandas.pydata.org/pandas-docs/stable/user_guide/indexing.html#returning-a-view-versus-a-copy\n",
            "  df[col] = df[col].astype(np.float32)\n",
            "<ipython-input-14-b5f18661dcfe>:25: RuntimeWarning: overflow encountered in cast\n",
            "  if c_min > np.finfo(np.float16).min and c_max < np.finfo(np.float16).max:\n",
            "<ipython-input-14-b5f18661dcfe>:28: SettingWithCopyWarning: \n",
            "A value is trying to be set on a copy of a slice from a DataFrame.\n",
            "Try using .loc[row_indexer,col_indexer] = value instead\n",
            "\n",
            "See the caveats in the documentation: https://pandas.pydata.org/pandas-docs/stable/user_guide/indexing.html#returning-a-view-versus-a-copy\n",
            "  df[col] = df[col].astype(np.float32)\n",
            "<ipython-input-14-b5f18661dcfe>:25: RuntimeWarning: overflow encountered in cast\n",
            "  if c_min > np.finfo(np.float16).min and c_max < np.finfo(np.float16).max:\n",
            "<ipython-input-14-b5f18661dcfe>:28: SettingWithCopyWarning: \n",
            "A value is trying to be set on a copy of a slice from a DataFrame.\n",
            "Try using .loc[row_indexer,col_indexer] = value instead\n",
            "\n",
            "See the caveats in the documentation: https://pandas.pydata.org/pandas-docs/stable/user_guide/indexing.html#returning-a-view-versus-a-copy\n",
            "  df[col] = df[col].astype(np.float32)\n",
            "<ipython-input-14-b5f18661dcfe>:25: RuntimeWarning: overflow encountered in cast\n",
            "  if c_min > np.finfo(np.float16).min and c_max < np.finfo(np.float16).max:\n",
            "<ipython-input-14-b5f18661dcfe>:28: SettingWithCopyWarning: \n",
            "A value is trying to be set on a copy of a slice from a DataFrame.\n",
            "Try using .loc[row_indexer,col_indexer] = value instead\n",
            "\n",
            "See the caveats in the documentation: https://pandas.pydata.org/pandas-docs/stable/user_guide/indexing.html#returning-a-view-versus-a-copy\n",
            "  df[col] = df[col].astype(np.float32)\n",
            "<ipython-input-14-b5f18661dcfe>:25: RuntimeWarning: overflow encountered in cast\n",
            "  if c_min > np.finfo(np.float16).min and c_max < np.finfo(np.float16).max:\n",
            "<ipython-input-14-b5f18661dcfe>:28: SettingWithCopyWarning: \n",
            "A value is trying to be set on a copy of a slice from a DataFrame.\n",
            "Try using .loc[row_indexer,col_indexer] = value instead\n",
            "\n",
            "See the caveats in the documentation: https://pandas.pydata.org/pandas-docs/stable/user_guide/indexing.html#returning-a-view-versus-a-copy\n",
            "  df[col] = df[col].astype(np.float32)\n",
            "<ipython-input-14-b5f18661dcfe>:25: RuntimeWarning: overflow encountered in cast\n",
            "  if c_min > np.finfo(np.float16).min and c_max < np.finfo(np.float16).max:\n",
            "<ipython-input-14-b5f18661dcfe>:28: SettingWithCopyWarning: \n",
            "A value is trying to be set on a copy of a slice from a DataFrame.\n",
            "Try using .loc[row_indexer,col_indexer] = value instead\n",
            "\n",
            "See the caveats in the documentation: https://pandas.pydata.org/pandas-docs/stable/user_guide/indexing.html#returning-a-view-versus-a-copy\n",
            "  df[col] = df[col].astype(np.float32)\n",
            "<ipython-input-14-b5f18661dcfe>:25: RuntimeWarning: overflow encountered in cast\n",
            "  if c_min > np.finfo(np.float16).min and c_max < np.finfo(np.float16).max:\n",
            "<ipython-input-14-b5f18661dcfe>:28: SettingWithCopyWarning: \n",
            "A value is trying to be set on a copy of a slice from a DataFrame.\n",
            "Try using .loc[row_indexer,col_indexer] = value instead\n",
            "\n",
            "See the caveats in the documentation: https://pandas.pydata.org/pandas-docs/stable/user_guide/indexing.html#returning-a-view-versus-a-copy\n",
            "  df[col] = df[col].astype(np.float32)\n",
            "<ipython-input-14-b5f18661dcfe>:25: RuntimeWarning: overflow encountered in cast\n",
            "  if c_min > np.finfo(np.float16).min and c_max < np.finfo(np.float16).max:\n",
            "<ipython-input-14-b5f18661dcfe>:28: SettingWithCopyWarning: \n",
            "A value is trying to be set on a copy of a slice from a DataFrame.\n",
            "Try using .loc[row_indexer,col_indexer] = value instead\n",
            "\n",
            "See the caveats in the documentation: https://pandas.pydata.org/pandas-docs/stable/user_guide/indexing.html#returning-a-view-versus-a-copy\n",
            "  df[col] = df[col].astype(np.float32)\n",
            "<ipython-input-14-b5f18661dcfe>:25: RuntimeWarning: overflow encountered in cast\n",
            "  if c_min > np.finfo(np.float16).min and c_max < np.finfo(np.float16).max:\n",
            "<ipython-input-14-b5f18661dcfe>:28: SettingWithCopyWarning: \n",
            "A value is trying to be set on a copy of a slice from a DataFrame.\n",
            "Try using .loc[row_indexer,col_indexer] = value instead\n",
            "\n",
            "See the caveats in the documentation: https://pandas.pydata.org/pandas-docs/stable/user_guide/indexing.html#returning-a-view-versus-a-copy\n",
            "  df[col] = df[col].astype(np.float32)\n",
            "<ipython-input-14-b5f18661dcfe>:25: RuntimeWarning: overflow encountered in cast\n",
            "  if c_min > np.finfo(np.float16).min and c_max < np.finfo(np.float16).max:\n",
            "<ipython-input-14-b5f18661dcfe>:28: SettingWithCopyWarning: \n",
            "A value is trying to be set on a copy of a slice from a DataFrame.\n",
            "Try using .loc[row_indexer,col_indexer] = value instead\n",
            "\n",
            "See the caveats in the documentation: https://pandas.pydata.org/pandas-docs/stable/user_guide/indexing.html#returning-a-view-versus-a-copy\n",
            "  df[col] = df[col].astype(np.float32)\n",
            "<ipython-input-14-b5f18661dcfe>:25: RuntimeWarning: overflow encountered in cast\n",
            "  if c_min > np.finfo(np.float16).min and c_max < np.finfo(np.float16).max:\n",
            "<ipython-input-14-b5f18661dcfe>:28: SettingWithCopyWarning: \n",
            "A value is trying to be set on a copy of a slice from a DataFrame.\n",
            "Try using .loc[row_indexer,col_indexer] = value instead\n",
            "\n",
            "See the caveats in the documentation: https://pandas.pydata.org/pandas-docs/stable/user_guide/indexing.html#returning-a-view-versus-a-copy\n",
            "  df[col] = df[col].astype(np.float32)\n",
            "<ipython-input-14-b5f18661dcfe>:25: RuntimeWarning: overflow encountered in cast\n",
            "  if c_min > np.finfo(np.float16).min and c_max < np.finfo(np.float16).max:\n",
            "<ipython-input-14-b5f18661dcfe>:28: SettingWithCopyWarning: \n",
            "A value is trying to be set on a copy of a slice from a DataFrame.\n",
            "Try using .loc[row_indexer,col_indexer] = value instead\n",
            "\n",
            "See the caveats in the documentation: https://pandas.pydata.org/pandas-docs/stable/user_guide/indexing.html#returning-a-view-versus-a-copy\n",
            "  df[col] = df[col].astype(np.float32)\n",
            "<ipython-input-14-b5f18661dcfe>:25: RuntimeWarning: overflow encountered in cast\n",
            "  if c_min > np.finfo(np.float16).min and c_max < np.finfo(np.float16).max:\n",
            "<ipython-input-14-b5f18661dcfe>:28: SettingWithCopyWarning: \n",
            "A value is trying to be set on a copy of a slice from a DataFrame.\n",
            "Try using .loc[row_indexer,col_indexer] = value instead\n",
            "\n",
            "See the caveats in the documentation: https://pandas.pydata.org/pandas-docs/stable/user_guide/indexing.html#returning-a-view-versus-a-copy\n",
            "  df[col] = df[col].astype(np.float32)\n",
            "<ipython-input-14-b5f18661dcfe>:25: RuntimeWarning: overflow encountered in cast\n",
            "  if c_min > np.finfo(np.float16).min and c_max < np.finfo(np.float16).max:\n",
            "<ipython-input-14-b5f18661dcfe>:28: SettingWithCopyWarning: \n",
            "A value is trying to be set on a copy of a slice from a DataFrame.\n",
            "Try using .loc[row_indexer,col_indexer] = value instead\n",
            "\n",
            "See the caveats in the documentation: https://pandas.pydata.org/pandas-docs/stable/user_guide/indexing.html#returning-a-view-versus-a-copy\n",
            "  df[col] = df[col].astype(np.float32)\n",
            "<ipython-input-14-b5f18661dcfe>:26: SettingWithCopyWarning: \n",
            "A value is trying to be set on a copy of a slice from a DataFrame.\n",
            "Try using .loc[row_indexer,col_indexer] = value instead\n",
            "\n",
            "See the caveats in the documentation: https://pandas.pydata.org/pandas-docs/stable/user_guide/indexing.html#returning-a-view-versus-a-copy\n",
            "  df[col] = df[col].astype(np.float16)\n",
            "<ipython-input-14-b5f18661dcfe>:25: RuntimeWarning: overflow encountered in cast\n",
            "  if c_min > np.finfo(np.float16).min and c_max < np.finfo(np.float16).max:\n",
            "<ipython-input-14-b5f18661dcfe>:28: SettingWithCopyWarning: \n",
            "A value is trying to be set on a copy of a slice from a DataFrame.\n",
            "Try using .loc[row_indexer,col_indexer] = value instead\n",
            "\n",
            "See the caveats in the documentation: https://pandas.pydata.org/pandas-docs/stable/user_guide/indexing.html#returning-a-view-versus-a-copy\n",
            "  df[col] = df[col].astype(np.float32)\n",
            "<ipython-input-14-b5f18661dcfe>:25: RuntimeWarning: overflow encountered in cast\n",
            "  if c_min > np.finfo(np.float16).min and c_max < np.finfo(np.float16).max:\n",
            "<ipython-input-14-b5f18661dcfe>:28: SettingWithCopyWarning: \n",
            "A value is trying to be set on a copy of a slice from a DataFrame.\n",
            "Try using .loc[row_indexer,col_indexer] = value instead\n",
            "\n",
            "See the caveats in the documentation: https://pandas.pydata.org/pandas-docs/stable/user_guide/indexing.html#returning-a-view-versus-a-copy\n",
            "  df[col] = df[col].astype(np.float32)\n",
            "<ipython-input-14-b5f18661dcfe>:25: RuntimeWarning: overflow encountered in cast\n",
            "  if c_min > np.finfo(np.float16).min and c_max < np.finfo(np.float16).max:\n",
            "<ipython-input-14-b5f18661dcfe>:28: SettingWithCopyWarning: \n",
            "A value is trying to be set on a copy of a slice from a DataFrame.\n",
            "Try using .loc[row_indexer,col_indexer] = value instead\n",
            "\n",
            "See the caveats in the documentation: https://pandas.pydata.org/pandas-docs/stable/user_guide/indexing.html#returning-a-view-versus-a-copy\n",
            "  df[col] = df[col].astype(np.float32)\n",
            "<ipython-input-14-b5f18661dcfe>:25: RuntimeWarning: overflow encountered in cast\n",
            "  if c_min > np.finfo(np.float16).min and c_max < np.finfo(np.float16).max:\n",
            "<ipython-input-14-b5f18661dcfe>:28: SettingWithCopyWarning: \n",
            "A value is trying to be set on a copy of a slice from a DataFrame.\n",
            "Try using .loc[row_indexer,col_indexer] = value instead\n",
            "\n",
            "See the caveats in the documentation: https://pandas.pydata.org/pandas-docs/stable/user_guide/indexing.html#returning-a-view-versus-a-copy\n",
            "  df[col] = df[col].astype(np.float32)\n",
            "<ipython-input-14-b5f18661dcfe>:25: RuntimeWarning: overflow encountered in cast\n",
            "  if c_min > np.finfo(np.float16).min and c_max < np.finfo(np.float16).max:\n",
            "<ipython-input-14-b5f18661dcfe>:28: SettingWithCopyWarning: \n",
            "A value is trying to be set on a copy of a slice from a DataFrame.\n",
            "Try using .loc[row_indexer,col_indexer] = value instead\n",
            "\n",
            "See the caveats in the documentation: https://pandas.pydata.org/pandas-docs/stable/user_guide/indexing.html#returning-a-view-versus-a-copy\n",
            "  df[col] = df[col].astype(np.float32)\n",
            "<ipython-input-14-b5f18661dcfe>:25: RuntimeWarning: overflow encountered in cast\n",
            "  if c_min > np.finfo(np.float16).min and c_max < np.finfo(np.float16).max:\n",
            "<ipython-input-14-b5f18661dcfe>:28: SettingWithCopyWarning: \n",
            "A value is trying to be set on a copy of a slice from a DataFrame.\n",
            "Try using .loc[row_indexer,col_indexer] = value instead\n",
            "\n",
            "See the caveats in the documentation: https://pandas.pydata.org/pandas-docs/stable/user_guide/indexing.html#returning-a-view-versus-a-copy\n",
            "  df[col] = df[col].astype(np.float32)\n",
            "<ipython-input-14-b5f18661dcfe>:25: RuntimeWarning: overflow encountered in cast\n",
            "  if c_min > np.finfo(np.float16).min and c_max < np.finfo(np.float16).max:\n",
            "<ipython-input-14-b5f18661dcfe>:28: SettingWithCopyWarning: \n",
            "A value is trying to be set on a copy of a slice from a DataFrame.\n",
            "Try using .loc[row_indexer,col_indexer] = value instead\n",
            "\n",
            "See the caveats in the documentation: https://pandas.pydata.org/pandas-docs/stable/user_guide/indexing.html#returning-a-view-versus-a-copy\n",
            "  df[col] = df[col].astype(np.float32)\n",
            "<ipython-input-14-b5f18661dcfe>:25: RuntimeWarning: overflow encountered in cast\n",
            "  if c_min > np.finfo(np.float16).min and c_max < np.finfo(np.float16).max:\n",
            "<ipython-input-14-b5f18661dcfe>:28: SettingWithCopyWarning: \n",
            "A value is trying to be set on a copy of a slice from a DataFrame.\n",
            "Try using .loc[row_indexer,col_indexer] = value instead\n",
            "\n",
            "See the caveats in the documentation: https://pandas.pydata.org/pandas-docs/stable/user_guide/indexing.html#returning-a-view-versus-a-copy\n",
            "  df[col] = df[col].astype(np.float32)\n",
            "<ipython-input-14-b5f18661dcfe>:25: RuntimeWarning: overflow encountered in cast\n",
            "  if c_min > np.finfo(np.float16).min and c_max < np.finfo(np.float16).max:\n",
            "<ipython-input-14-b5f18661dcfe>:28: SettingWithCopyWarning: \n",
            "A value is trying to be set on a copy of a slice from a DataFrame.\n",
            "Try using .loc[row_indexer,col_indexer] = value instead\n",
            "\n",
            "See the caveats in the documentation: https://pandas.pydata.org/pandas-docs/stable/user_guide/indexing.html#returning-a-view-versus-a-copy\n",
            "  df[col] = df[col].astype(np.float32)\n",
            "<ipython-input-14-b5f18661dcfe>:25: RuntimeWarning: overflow encountered in cast\n",
            "  if c_min > np.finfo(np.float16).min and c_max < np.finfo(np.float16).max:\n",
            "<ipython-input-14-b5f18661dcfe>:28: SettingWithCopyWarning: \n",
            "A value is trying to be set on a copy of a slice from a DataFrame.\n",
            "Try using .loc[row_indexer,col_indexer] = value instead\n",
            "\n",
            "See the caveats in the documentation: https://pandas.pydata.org/pandas-docs/stable/user_guide/indexing.html#returning-a-view-versus-a-copy\n",
            "  df[col] = df[col].astype(np.float32)\n",
            "<ipython-input-14-b5f18661dcfe>:25: RuntimeWarning: overflow encountered in cast\n",
            "  if c_min > np.finfo(np.float16).min and c_max < np.finfo(np.float16).max:\n",
            "<ipython-input-14-b5f18661dcfe>:28: SettingWithCopyWarning: \n",
            "A value is trying to be set on a copy of a slice from a DataFrame.\n",
            "Try using .loc[row_indexer,col_indexer] = value instead\n",
            "\n",
            "See the caveats in the documentation: https://pandas.pydata.org/pandas-docs/stable/user_guide/indexing.html#returning-a-view-versus-a-copy\n",
            "  df[col] = df[col].astype(np.float32)\n",
            "<ipython-input-14-b5f18661dcfe>:25: RuntimeWarning: overflow encountered in cast\n",
            "  if c_min > np.finfo(np.float16).min and c_max < np.finfo(np.float16).max:\n",
            "<ipython-input-14-b5f18661dcfe>:28: SettingWithCopyWarning: \n",
            "A value is trying to be set on a copy of a slice from a DataFrame.\n",
            "Try using .loc[row_indexer,col_indexer] = value instead\n",
            "\n",
            "See the caveats in the documentation: https://pandas.pydata.org/pandas-docs/stable/user_guide/indexing.html#returning-a-view-versus-a-copy\n",
            "  df[col] = df[col].astype(np.float32)\n",
            "<ipython-input-14-b5f18661dcfe>:25: RuntimeWarning: overflow encountered in cast\n",
            "  if c_min > np.finfo(np.float16).min and c_max < np.finfo(np.float16).max:\n",
            "<ipython-input-14-b5f18661dcfe>:28: SettingWithCopyWarning: \n",
            "A value is trying to be set on a copy of a slice from a DataFrame.\n",
            "Try using .loc[row_indexer,col_indexer] = value instead\n",
            "\n",
            "See the caveats in the documentation: https://pandas.pydata.org/pandas-docs/stable/user_guide/indexing.html#returning-a-view-versus-a-copy\n",
            "  df[col] = df[col].astype(np.float32)\n",
            "<ipython-input-14-b5f18661dcfe>:25: RuntimeWarning: overflow encountered in cast\n",
            "  if c_min > np.finfo(np.float16).min and c_max < np.finfo(np.float16).max:\n",
            "<ipython-input-14-b5f18661dcfe>:28: SettingWithCopyWarning: \n",
            "A value is trying to be set on a copy of a slice from a DataFrame.\n",
            "Try using .loc[row_indexer,col_indexer] = value instead\n",
            "\n",
            "See the caveats in the documentation: https://pandas.pydata.org/pandas-docs/stable/user_guide/indexing.html#returning-a-view-versus-a-copy\n",
            "  df[col] = df[col].astype(np.float32)\n",
            "<ipython-input-14-b5f18661dcfe>:25: RuntimeWarning: overflow encountered in cast\n",
            "  if c_min > np.finfo(np.float16).min and c_max < np.finfo(np.float16).max:\n",
            "<ipython-input-14-b5f18661dcfe>:28: SettingWithCopyWarning: \n",
            "A value is trying to be set on a copy of a slice from a DataFrame.\n",
            "Try using .loc[row_indexer,col_indexer] = value instead\n",
            "\n",
            "See the caveats in the documentation: https://pandas.pydata.org/pandas-docs/stable/user_guide/indexing.html#returning-a-view-versus-a-copy\n",
            "  df[col] = df[col].astype(np.float32)\n",
            "<ipython-input-14-b5f18661dcfe>:25: RuntimeWarning: overflow encountered in cast\n",
            "  if c_min > np.finfo(np.float16).min and c_max < np.finfo(np.float16).max:\n",
            "<ipython-input-14-b5f18661dcfe>:28: SettingWithCopyWarning: \n",
            "A value is trying to be set on a copy of a slice from a DataFrame.\n",
            "Try using .loc[row_indexer,col_indexer] = value instead\n",
            "\n",
            "See the caveats in the documentation: https://pandas.pydata.org/pandas-docs/stable/user_guide/indexing.html#returning-a-view-versus-a-copy\n",
            "  df[col] = df[col].astype(np.float32)\n",
            "<ipython-input-14-b5f18661dcfe>:25: RuntimeWarning: overflow encountered in cast\n",
            "  if c_min > np.finfo(np.float16).min and c_max < np.finfo(np.float16).max:\n",
            "<ipython-input-14-b5f18661dcfe>:28: SettingWithCopyWarning: \n",
            "A value is trying to be set on a copy of a slice from a DataFrame.\n",
            "Try using .loc[row_indexer,col_indexer] = value instead\n",
            "\n",
            "See the caveats in the documentation: https://pandas.pydata.org/pandas-docs/stable/user_guide/indexing.html#returning-a-view-versus-a-copy\n",
            "  df[col] = df[col].astype(np.float32)\n",
            "<ipython-input-14-b5f18661dcfe>:25: RuntimeWarning: overflow encountered in cast\n",
            "  if c_min > np.finfo(np.float16).min and c_max < np.finfo(np.float16).max:\n",
            "<ipython-input-14-b5f18661dcfe>:28: SettingWithCopyWarning: \n",
            "A value is trying to be set on a copy of a slice from a DataFrame.\n",
            "Try using .loc[row_indexer,col_indexer] = value instead\n",
            "\n",
            "See the caveats in the documentation: https://pandas.pydata.org/pandas-docs/stable/user_guide/indexing.html#returning-a-view-versus-a-copy\n",
            "  df[col] = df[col].astype(np.float32)\n",
            "<ipython-input-14-b5f18661dcfe>:30: SettingWithCopyWarning: \n",
            "A value is trying to be set on a copy of a slice from a DataFrame.\n",
            "Try using .loc[row_indexer,col_indexer] = value instead\n",
            "\n",
            "See the caveats in the documentation: https://pandas.pydata.org/pandas-docs/stable/user_guide/indexing.html#returning-a-view-versus-a-copy\n",
            "  df[col] = df[col].astype(np.float64)\n",
            "<ipython-input-14-b5f18661dcfe>:25: RuntimeWarning: overflow encountered in cast\n",
            "  if c_min > np.finfo(np.float16).min and c_max < np.finfo(np.float16).max:\n",
            "<ipython-input-14-b5f18661dcfe>:28: SettingWithCopyWarning: \n",
            "A value is trying to be set on a copy of a slice from a DataFrame.\n",
            "Try using .loc[row_indexer,col_indexer] = value instead\n",
            "\n",
            "See the caveats in the documentation: https://pandas.pydata.org/pandas-docs/stable/user_guide/indexing.html#returning-a-view-versus-a-copy\n",
            "  df[col] = df[col].astype(np.float32)\n",
            "<ipython-input-14-b5f18661dcfe>:25: RuntimeWarning: overflow encountered in cast\n",
            "  if c_min > np.finfo(np.float16).min and c_max < np.finfo(np.float16).max:\n",
            "<ipython-input-14-b5f18661dcfe>:28: SettingWithCopyWarning: \n",
            "A value is trying to be set on a copy of a slice from a DataFrame.\n",
            "Try using .loc[row_indexer,col_indexer] = value instead\n",
            "\n",
            "See the caveats in the documentation: https://pandas.pydata.org/pandas-docs/stable/user_guide/indexing.html#returning-a-view-versus-a-copy\n",
            "  df[col] = df[col].astype(np.float32)\n",
            "<ipython-input-14-b5f18661dcfe>:25: RuntimeWarning: overflow encountered in cast\n",
            "  if c_min > np.finfo(np.float16).min and c_max < np.finfo(np.float16).max:\n",
            "<ipython-input-14-b5f18661dcfe>:28: SettingWithCopyWarning: \n",
            "A value is trying to be set on a copy of a slice from a DataFrame.\n",
            "Try using .loc[row_indexer,col_indexer] = value instead\n",
            "\n",
            "See the caveats in the documentation: https://pandas.pydata.org/pandas-docs/stable/user_guide/indexing.html#returning-a-view-versus-a-copy\n",
            "  df[col] = df[col].astype(np.float32)\n",
            "<ipython-input-14-b5f18661dcfe>:25: RuntimeWarning: overflow encountered in cast\n",
            "  if c_min > np.finfo(np.float16).min and c_max < np.finfo(np.float16).max:\n",
            "<ipython-input-14-b5f18661dcfe>:28: SettingWithCopyWarning: \n",
            "A value is trying to be set on a copy of a slice from a DataFrame.\n",
            "Try using .loc[row_indexer,col_indexer] = value instead\n",
            "\n",
            "See the caveats in the documentation: https://pandas.pydata.org/pandas-docs/stable/user_guide/indexing.html#returning-a-view-versus-a-copy\n",
            "  df[col] = df[col].astype(np.float32)\n",
            "<ipython-input-14-b5f18661dcfe>:25: RuntimeWarning: overflow encountered in cast\n",
            "  if c_min > np.finfo(np.float16).min and c_max < np.finfo(np.float16).max:\n",
            "<ipython-input-14-b5f18661dcfe>:28: SettingWithCopyWarning: \n",
            "A value is trying to be set on a copy of a slice from a DataFrame.\n",
            "Try using .loc[row_indexer,col_indexer] = value instead\n",
            "\n",
            "See the caveats in the documentation: https://pandas.pydata.org/pandas-docs/stable/user_guide/indexing.html#returning-a-view-versus-a-copy\n",
            "  df[col] = df[col].astype(np.float32)\n",
            "<ipython-input-14-b5f18661dcfe>:25: RuntimeWarning: overflow encountered in cast\n",
            "  if c_min > np.finfo(np.float16).min and c_max < np.finfo(np.float16).max:\n",
            "<ipython-input-14-b5f18661dcfe>:28: SettingWithCopyWarning: \n",
            "A value is trying to be set on a copy of a slice from a DataFrame.\n",
            "Try using .loc[row_indexer,col_indexer] = value instead\n",
            "\n",
            "See the caveats in the documentation: https://pandas.pydata.org/pandas-docs/stable/user_guide/indexing.html#returning-a-view-versus-a-copy\n",
            "  df[col] = df[col].astype(np.float32)\n",
            "<ipython-input-14-b5f18661dcfe>:25: RuntimeWarning: overflow encountered in cast\n",
            "  if c_min > np.finfo(np.float16).min and c_max < np.finfo(np.float16).max:\n",
            "<ipython-input-14-b5f18661dcfe>:28: SettingWithCopyWarning: \n",
            "A value is trying to be set on a copy of a slice from a DataFrame.\n",
            "Try using .loc[row_indexer,col_indexer] = value instead\n",
            "\n",
            "See the caveats in the documentation: https://pandas.pydata.org/pandas-docs/stable/user_guide/indexing.html#returning-a-view-versus-a-copy\n",
            "  df[col] = df[col].astype(np.float32)\n",
            "<ipython-input-14-b5f18661dcfe>:25: RuntimeWarning: overflow encountered in cast\n",
            "  if c_min > np.finfo(np.float16).min and c_max < np.finfo(np.float16).max:\n",
            "<ipython-input-14-b5f18661dcfe>:28: SettingWithCopyWarning: \n",
            "A value is trying to be set on a copy of a slice from a DataFrame.\n",
            "Try using .loc[row_indexer,col_indexer] = value instead\n",
            "\n",
            "See the caveats in the documentation: https://pandas.pydata.org/pandas-docs/stable/user_guide/indexing.html#returning-a-view-versus-a-copy\n",
            "  df[col] = df[col].astype(np.float32)\n",
            "<ipython-input-14-b5f18661dcfe>:25: RuntimeWarning: overflow encountered in cast\n",
            "  if c_min > np.finfo(np.float16).min and c_max < np.finfo(np.float16).max:\n",
            "<ipython-input-14-b5f18661dcfe>:28: SettingWithCopyWarning: \n",
            "A value is trying to be set on a copy of a slice from a DataFrame.\n",
            "Try using .loc[row_indexer,col_indexer] = value instead\n",
            "\n",
            "See the caveats in the documentation: https://pandas.pydata.org/pandas-docs/stable/user_guide/indexing.html#returning-a-view-versus-a-copy\n",
            "  df[col] = df[col].astype(np.float32)\n",
            "<ipython-input-14-b5f18661dcfe>:25: RuntimeWarning: overflow encountered in cast\n",
            "  if c_min > np.finfo(np.float16).min and c_max < np.finfo(np.float16).max:\n",
            "<ipython-input-14-b5f18661dcfe>:28: SettingWithCopyWarning: \n",
            "A value is trying to be set on a copy of a slice from a DataFrame.\n",
            "Try using .loc[row_indexer,col_indexer] = value instead\n",
            "\n",
            "See the caveats in the documentation: https://pandas.pydata.org/pandas-docs/stable/user_guide/indexing.html#returning-a-view-versus-a-copy\n",
            "  df[col] = df[col].astype(np.float32)\n",
            "<ipython-input-14-b5f18661dcfe>:25: RuntimeWarning: overflow encountered in cast\n",
            "  if c_min > np.finfo(np.float16).min and c_max < np.finfo(np.float16).max:\n",
            "<ipython-input-14-b5f18661dcfe>:28: SettingWithCopyWarning: \n",
            "A value is trying to be set on a copy of a slice from a DataFrame.\n",
            "Try using .loc[row_indexer,col_indexer] = value instead\n",
            "\n",
            "See the caveats in the documentation: https://pandas.pydata.org/pandas-docs/stable/user_guide/indexing.html#returning-a-view-versus-a-copy\n",
            "  df[col] = df[col].astype(np.float32)\n",
            "<ipython-input-14-b5f18661dcfe>:25: RuntimeWarning: overflow encountered in cast\n",
            "  if c_min > np.finfo(np.float16).min and c_max < np.finfo(np.float16).max:\n",
            "<ipython-input-14-b5f18661dcfe>:28: SettingWithCopyWarning: \n",
            "A value is trying to be set on a copy of a slice from a DataFrame.\n",
            "Try using .loc[row_indexer,col_indexer] = value instead\n",
            "\n",
            "See the caveats in the documentation: https://pandas.pydata.org/pandas-docs/stable/user_guide/indexing.html#returning-a-view-versus-a-copy\n",
            "  df[col] = df[col].astype(np.float32)\n",
            "<ipython-input-14-b5f18661dcfe>:25: RuntimeWarning: overflow encountered in cast\n",
            "  if c_min > np.finfo(np.float16).min and c_max < np.finfo(np.float16).max:\n",
            "<ipython-input-14-b5f18661dcfe>:28: SettingWithCopyWarning: \n",
            "A value is trying to be set on a copy of a slice from a DataFrame.\n",
            "Try using .loc[row_indexer,col_indexer] = value instead\n",
            "\n",
            "See the caveats in the documentation: https://pandas.pydata.org/pandas-docs/stable/user_guide/indexing.html#returning-a-view-versus-a-copy\n",
            "  df[col] = df[col].astype(np.float32)\n",
            "<ipython-input-14-b5f18661dcfe>:25: RuntimeWarning: overflow encountered in cast\n",
            "  if c_min > np.finfo(np.float16).min and c_max < np.finfo(np.float16).max:\n",
            "<ipython-input-14-b5f18661dcfe>:28: SettingWithCopyWarning: \n",
            "A value is trying to be set on a copy of a slice from a DataFrame.\n",
            "Try using .loc[row_indexer,col_indexer] = value instead\n",
            "\n",
            "See the caveats in the documentation: https://pandas.pydata.org/pandas-docs/stable/user_guide/indexing.html#returning-a-view-versus-a-copy\n",
            "  df[col] = df[col].astype(np.float32)\n",
            "<ipython-input-14-b5f18661dcfe>:25: RuntimeWarning: overflow encountered in cast\n",
            "  if c_min > np.finfo(np.float16).min and c_max < np.finfo(np.float16).max:\n",
            "<ipython-input-14-b5f18661dcfe>:28: SettingWithCopyWarning: \n",
            "A value is trying to be set on a copy of a slice from a DataFrame.\n",
            "Try using .loc[row_indexer,col_indexer] = value instead\n",
            "\n",
            "See the caveats in the documentation: https://pandas.pydata.org/pandas-docs/stable/user_guide/indexing.html#returning-a-view-versus-a-copy\n",
            "  df[col] = df[col].astype(np.float32)\n",
            "<ipython-input-14-b5f18661dcfe>:26: SettingWithCopyWarning: \n",
            "A value is trying to be set on a copy of a slice from a DataFrame.\n",
            "Try using .loc[row_indexer,col_indexer] = value instead\n",
            "\n",
            "See the caveats in the documentation: https://pandas.pydata.org/pandas-docs/stable/user_guide/indexing.html#returning-a-view-versus-a-copy\n",
            "  df[col] = df[col].astype(np.float16)\n",
            "<ipython-input-14-b5f18661dcfe>:25: RuntimeWarning: overflow encountered in cast\n",
            "  if c_min > np.finfo(np.float16).min and c_max < np.finfo(np.float16).max:\n",
            "<ipython-input-14-b5f18661dcfe>:28: SettingWithCopyWarning: \n",
            "A value is trying to be set on a copy of a slice from a DataFrame.\n",
            "Try using .loc[row_indexer,col_indexer] = value instead\n",
            "\n",
            "See the caveats in the documentation: https://pandas.pydata.org/pandas-docs/stable/user_guide/indexing.html#returning-a-view-versus-a-copy\n",
            "  df[col] = df[col].astype(np.float32)\n",
            "<ipython-input-14-b5f18661dcfe>:25: RuntimeWarning: overflow encountered in cast\n",
            "  if c_min > np.finfo(np.float16).min and c_max < np.finfo(np.float16).max:\n",
            "<ipython-input-14-b5f18661dcfe>:28: SettingWithCopyWarning: \n",
            "A value is trying to be set on a copy of a slice from a DataFrame.\n",
            "Try using .loc[row_indexer,col_indexer] = value instead\n",
            "\n",
            "See the caveats in the documentation: https://pandas.pydata.org/pandas-docs/stable/user_guide/indexing.html#returning-a-view-versus-a-copy\n",
            "  df[col] = df[col].astype(np.float32)\n",
            "<ipython-input-14-b5f18661dcfe>:25: RuntimeWarning: overflow encountered in cast\n",
            "  if c_min > np.finfo(np.float16).min and c_max < np.finfo(np.float16).max:\n",
            "<ipython-input-14-b5f18661dcfe>:28: SettingWithCopyWarning: \n",
            "A value is trying to be set on a copy of a slice from a DataFrame.\n",
            "Try using .loc[row_indexer,col_indexer] = value instead\n",
            "\n",
            "See the caveats in the documentation: https://pandas.pydata.org/pandas-docs/stable/user_guide/indexing.html#returning-a-view-versus-a-copy\n",
            "  df[col] = df[col].astype(np.float32)\n",
            "<ipython-input-14-b5f18661dcfe>:25: RuntimeWarning: overflow encountered in cast\n",
            "  if c_min > np.finfo(np.float16).min and c_max < np.finfo(np.float16).max:\n",
            "<ipython-input-14-b5f18661dcfe>:28: SettingWithCopyWarning: \n",
            "A value is trying to be set on a copy of a slice from a DataFrame.\n",
            "Try using .loc[row_indexer,col_indexer] = value instead\n",
            "\n",
            "See the caveats in the documentation: https://pandas.pydata.org/pandas-docs/stable/user_guide/indexing.html#returning-a-view-versus-a-copy\n",
            "  df[col] = df[col].astype(np.float32)\n",
            "<ipython-input-14-b5f18661dcfe>:25: RuntimeWarning: overflow encountered in cast\n",
            "  if c_min > np.finfo(np.float16).min and c_max < np.finfo(np.float16).max:\n",
            "<ipython-input-14-b5f18661dcfe>:28: SettingWithCopyWarning: \n",
            "A value is trying to be set on a copy of a slice from a DataFrame.\n",
            "Try using .loc[row_indexer,col_indexer] = value instead\n",
            "\n",
            "See the caveats in the documentation: https://pandas.pydata.org/pandas-docs/stable/user_guide/indexing.html#returning-a-view-versus-a-copy\n",
            "  df[col] = df[col].astype(np.float32)\n",
            "<ipython-input-14-b5f18661dcfe>:25: RuntimeWarning: overflow encountered in cast\n",
            "  if c_min > np.finfo(np.float16).min and c_max < np.finfo(np.float16).max:\n",
            "<ipython-input-14-b5f18661dcfe>:28: SettingWithCopyWarning: \n",
            "A value is trying to be set on a copy of a slice from a DataFrame.\n",
            "Try using .loc[row_indexer,col_indexer] = value instead\n",
            "\n",
            "See the caveats in the documentation: https://pandas.pydata.org/pandas-docs/stable/user_guide/indexing.html#returning-a-view-versus-a-copy\n",
            "  df[col] = df[col].astype(np.float32)\n",
            "<ipython-input-14-b5f18661dcfe>:25: RuntimeWarning: overflow encountered in cast\n",
            "  if c_min > np.finfo(np.float16).min and c_max < np.finfo(np.float16).max:\n",
            "<ipython-input-14-b5f18661dcfe>:28: SettingWithCopyWarning: \n",
            "A value is trying to be set on a copy of a slice from a DataFrame.\n",
            "Try using .loc[row_indexer,col_indexer] = value instead\n",
            "\n",
            "See the caveats in the documentation: https://pandas.pydata.org/pandas-docs/stable/user_guide/indexing.html#returning-a-view-versus-a-copy\n",
            "  df[col] = df[col].astype(np.float32)\n",
            "<ipython-input-14-b5f18661dcfe>:25: RuntimeWarning: overflow encountered in cast\n",
            "  if c_min > np.finfo(np.float16).min and c_max < np.finfo(np.float16).max:\n",
            "<ipython-input-14-b5f18661dcfe>:28: SettingWithCopyWarning: \n",
            "A value is trying to be set on a copy of a slice from a DataFrame.\n",
            "Try using .loc[row_indexer,col_indexer] = value instead\n",
            "\n",
            "See the caveats in the documentation: https://pandas.pydata.org/pandas-docs/stable/user_guide/indexing.html#returning-a-view-versus-a-copy\n",
            "  df[col] = df[col].astype(np.float32)\n",
            "<ipython-input-14-b5f18661dcfe>:25: RuntimeWarning: overflow encountered in cast\n",
            "  if c_min > np.finfo(np.float16).min and c_max < np.finfo(np.float16).max:\n",
            "<ipython-input-14-b5f18661dcfe>:28: SettingWithCopyWarning: \n",
            "A value is trying to be set on a copy of a slice from a DataFrame.\n",
            "Try using .loc[row_indexer,col_indexer] = value instead\n",
            "\n",
            "See the caveats in the documentation: https://pandas.pydata.org/pandas-docs/stable/user_guide/indexing.html#returning-a-view-versus-a-copy\n",
            "  df[col] = df[col].astype(np.float32)\n",
            "<ipython-input-14-b5f18661dcfe>:25: RuntimeWarning: overflow encountered in cast\n",
            "  if c_min > np.finfo(np.float16).min and c_max < np.finfo(np.float16).max:\n",
            "<ipython-input-14-b5f18661dcfe>:28: SettingWithCopyWarning: \n",
            "A value is trying to be set on a copy of a slice from a DataFrame.\n",
            "Try using .loc[row_indexer,col_indexer] = value instead\n",
            "\n",
            "See the caveats in the documentation: https://pandas.pydata.org/pandas-docs/stable/user_guide/indexing.html#returning-a-view-versus-a-copy\n",
            "  df[col] = df[col].astype(np.float32)\n",
            "<ipython-input-14-b5f18661dcfe>:25: RuntimeWarning: overflow encountered in cast\n",
            "  if c_min > np.finfo(np.float16).min and c_max < np.finfo(np.float16).max:\n",
            "<ipython-input-14-b5f18661dcfe>:28: SettingWithCopyWarning: \n",
            "A value is trying to be set on a copy of a slice from a DataFrame.\n",
            "Try using .loc[row_indexer,col_indexer] = value instead\n",
            "\n",
            "See the caveats in the documentation: https://pandas.pydata.org/pandas-docs/stable/user_guide/indexing.html#returning-a-view-versus-a-copy\n",
            "  df[col] = df[col].astype(np.float32)\n",
            "<ipython-input-14-b5f18661dcfe>:25: RuntimeWarning: overflow encountered in cast\n",
            "  if c_min > np.finfo(np.float16).min and c_max < np.finfo(np.float16).max:\n",
            "<ipython-input-14-b5f18661dcfe>:28: SettingWithCopyWarning: \n",
            "A value is trying to be set on a copy of a slice from a DataFrame.\n",
            "Try using .loc[row_indexer,col_indexer] = value instead\n",
            "\n",
            "See the caveats in the documentation: https://pandas.pydata.org/pandas-docs/stable/user_guide/indexing.html#returning-a-view-versus-a-copy\n",
            "  df[col] = df[col].astype(np.float32)\n",
            "<ipython-input-14-b5f18661dcfe>:25: RuntimeWarning: overflow encountered in cast\n",
            "  if c_min > np.finfo(np.float16).min and c_max < np.finfo(np.float16).max:\n",
            "<ipython-input-14-b5f18661dcfe>:28: SettingWithCopyWarning: \n",
            "A value is trying to be set on a copy of a slice from a DataFrame.\n",
            "Try using .loc[row_indexer,col_indexer] = value instead\n",
            "\n",
            "See the caveats in the documentation: https://pandas.pydata.org/pandas-docs/stable/user_guide/indexing.html#returning-a-view-versus-a-copy\n",
            "  df[col] = df[col].astype(np.float32)\n",
            "<ipython-input-14-b5f18661dcfe>:25: RuntimeWarning: overflow encountered in cast\n",
            "  if c_min > np.finfo(np.float16).min and c_max < np.finfo(np.float16).max:\n",
            "<ipython-input-14-b5f18661dcfe>:28: SettingWithCopyWarning: \n",
            "A value is trying to be set on a copy of a slice from a DataFrame.\n",
            "Try using .loc[row_indexer,col_indexer] = value instead\n",
            "\n",
            "See the caveats in the documentation: https://pandas.pydata.org/pandas-docs/stable/user_guide/indexing.html#returning-a-view-versus-a-copy\n",
            "  df[col] = df[col].astype(np.float32)\n",
            "<ipython-input-14-b5f18661dcfe>:25: RuntimeWarning: overflow encountered in cast\n",
            "  if c_min > np.finfo(np.float16).min and c_max < np.finfo(np.float16).max:\n",
            "<ipython-input-14-b5f18661dcfe>:28: SettingWithCopyWarning: \n",
            "A value is trying to be set on a copy of a slice from a DataFrame.\n",
            "Try using .loc[row_indexer,col_indexer] = value instead\n",
            "\n",
            "See the caveats in the documentation: https://pandas.pydata.org/pandas-docs/stable/user_guide/indexing.html#returning-a-view-versus-a-copy\n",
            "  df[col] = df[col].astype(np.float32)\n",
            "<ipython-input-14-b5f18661dcfe>:25: RuntimeWarning: overflow encountered in cast\n",
            "  if c_min > np.finfo(np.float16).min and c_max < np.finfo(np.float16).max:\n",
            "<ipython-input-14-b5f18661dcfe>:28: SettingWithCopyWarning: \n",
            "A value is trying to be set on a copy of a slice from a DataFrame.\n",
            "Try using .loc[row_indexer,col_indexer] = value instead\n",
            "\n",
            "See the caveats in the documentation: https://pandas.pydata.org/pandas-docs/stable/user_guide/indexing.html#returning-a-view-versus-a-copy\n",
            "  df[col] = df[col].astype(np.float32)\n",
            "<ipython-input-14-b5f18661dcfe>:30: SettingWithCopyWarning: \n",
            "A value is trying to be set on a copy of a slice from a DataFrame.\n",
            "Try using .loc[row_indexer,col_indexer] = value instead\n",
            "\n",
            "See the caveats in the documentation: https://pandas.pydata.org/pandas-docs/stable/user_guide/indexing.html#returning-a-view-versus-a-copy\n",
            "  df[col] = df[col].astype(np.float64)\n",
            "<ipython-input-14-b5f18661dcfe>:25: RuntimeWarning: overflow encountered in cast\n",
            "  if c_min > np.finfo(np.float16).min and c_max < np.finfo(np.float16).max:\n",
            "<ipython-input-14-b5f18661dcfe>:28: SettingWithCopyWarning: \n",
            "A value is trying to be set on a copy of a slice from a DataFrame.\n",
            "Try using .loc[row_indexer,col_indexer] = value instead\n",
            "\n",
            "See the caveats in the documentation: https://pandas.pydata.org/pandas-docs/stable/user_guide/indexing.html#returning-a-view-versus-a-copy\n",
            "  df[col] = df[col].astype(np.float32)\n",
            "<ipython-input-14-b5f18661dcfe>:25: RuntimeWarning: overflow encountered in cast\n",
            "  if c_min > np.finfo(np.float16).min and c_max < np.finfo(np.float16).max:\n",
            "<ipython-input-14-b5f18661dcfe>:28: SettingWithCopyWarning: \n",
            "A value is trying to be set on a copy of a slice from a DataFrame.\n",
            "Try using .loc[row_indexer,col_indexer] = value instead\n",
            "\n",
            "See the caveats in the documentation: https://pandas.pydata.org/pandas-docs/stable/user_guide/indexing.html#returning-a-view-versus-a-copy\n",
            "  df[col] = df[col].astype(np.float32)\n",
            "<ipython-input-14-b5f18661dcfe>:30: SettingWithCopyWarning: \n",
            "A value is trying to be set on a copy of a slice from a DataFrame.\n",
            "Try using .loc[row_indexer,col_indexer] = value instead\n",
            "\n",
            "See the caveats in the documentation: https://pandas.pydata.org/pandas-docs/stable/user_guide/indexing.html#returning-a-view-versus-a-copy\n",
            "  df[col] = df[col].astype(np.float64)\n",
            "<ipython-input-14-b5f18661dcfe>:25: RuntimeWarning: overflow encountered in cast\n",
            "  if c_min > np.finfo(np.float16).min and c_max < np.finfo(np.float16).max:\n",
            "<ipython-input-14-b5f18661dcfe>:28: SettingWithCopyWarning: \n",
            "A value is trying to be set on a copy of a slice from a DataFrame.\n",
            "Try using .loc[row_indexer,col_indexer] = value instead\n",
            "\n",
            "See the caveats in the documentation: https://pandas.pydata.org/pandas-docs/stable/user_guide/indexing.html#returning-a-view-versus-a-copy\n",
            "  df[col] = df[col].astype(np.float32)\n",
            "<ipython-input-14-b5f18661dcfe>:26: SettingWithCopyWarning: \n",
            "A value is trying to be set on a copy of a slice from a DataFrame.\n",
            "Try using .loc[row_indexer,col_indexer] = value instead\n",
            "\n",
            "See the caveats in the documentation: https://pandas.pydata.org/pandas-docs/stable/user_guide/indexing.html#returning-a-view-versus-a-copy\n",
            "  df[col] = df[col].astype(np.float16)\n",
            "<ipython-input-14-b5f18661dcfe>:26: SettingWithCopyWarning: \n",
            "A value is trying to be set on a copy of a slice from a DataFrame.\n",
            "Try using .loc[row_indexer,col_indexer] = value instead\n",
            "\n",
            "See the caveats in the documentation: https://pandas.pydata.org/pandas-docs/stable/user_guide/indexing.html#returning-a-view-versus-a-copy\n",
            "  df[col] = df[col].astype(np.float16)\n",
            "<ipython-input-14-b5f18661dcfe>:25: RuntimeWarning: overflow encountered in cast\n",
            "  if c_min > np.finfo(np.float16).min and c_max < np.finfo(np.float16).max:\n",
            "<ipython-input-14-b5f18661dcfe>:28: SettingWithCopyWarning: \n",
            "A value is trying to be set on a copy of a slice from a DataFrame.\n",
            "Try using .loc[row_indexer,col_indexer] = value instead\n",
            "\n",
            "See the caveats in the documentation: https://pandas.pydata.org/pandas-docs/stable/user_guide/indexing.html#returning-a-view-versus-a-copy\n",
            "  df[col] = df[col].astype(np.float32)\n",
            "<ipython-input-14-b5f18661dcfe>:25: RuntimeWarning: overflow encountered in cast\n",
            "  if c_min > np.finfo(np.float16).min and c_max < np.finfo(np.float16).max:\n",
            "<ipython-input-14-b5f18661dcfe>:28: SettingWithCopyWarning: \n",
            "A value is trying to be set on a copy of a slice from a DataFrame.\n",
            "Try using .loc[row_indexer,col_indexer] = value instead\n",
            "\n",
            "See the caveats in the documentation: https://pandas.pydata.org/pandas-docs/stable/user_guide/indexing.html#returning-a-view-versus-a-copy\n",
            "  df[col] = df[col].astype(np.float32)\n",
            "<ipython-input-14-b5f18661dcfe>:25: RuntimeWarning: overflow encountered in cast\n",
            "  if c_min > np.finfo(np.float16).min and c_max < np.finfo(np.float16).max:\n",
            "<ipython-input-14-b5f18661dcfe>:28: SettingWithCopyWarning: \n",
            "A value is trying to be set on a copy of a slice from a DataFrame.\n",
            "Try using .loc[row_indexer,col_indexer] = value instead\n",
            "\n",
            "See the caveats in the documentation: https://pandas.pydata.org/pandas-docs/stable/user_guide/indexing.html#returning-a-view-versus-a-copy\n",
            "  df[col] = df[col].astype(np.float32)\n",
            "<ipython-input-14-b5f18661dcfe>:25: RuntimeWarning: overflow encountered in cast\n",
            "  if c_min > np.finfo(np.float16).min and c_max < np.finfo(np.float16).max:\n",
            "<ipython-input-14-b5f18661dcfe>:28: SettingWithCopyWarning: \n",
            "A value is trying to be set on a copy of a slice from a DataFrame.\n",
            "Try using .loc[row_indexer,col_indexer] = value instead\n",
            "\n",
            "See the caveats in the documentation: https://pandas.pydata.org/pandas-docs/stable/user_guide/indexing.html#returning-a-view-versus-a-copy\n",
            "  df[col] = df[col].astype(np.float32)\n",
            "<ipython-input-14-b5f18661dcfe>:25: RuntimeWarning: overflow encountered in cast\n",
            "  if c_min > np.finfo(np.float16).min and c_max < np.finfo(np.float16).max:\n",
            "<ipython-input-14-b5f18661dcfe>:28: SettingWithCopyWarning: \n",
            "A value is trying to be set on a copy of a slice from a DataFrame.\n",
            "Try using .loc[row_indexer,col_indexer] = value instead\n",
            "\n",
            "See the caveats in the documentation: https://pandas.pydata.org/pandas-docs/stable/user_guide/indexing.html#returning-a-view-versus-a-copy\n",
            "  df[col] = df[col].astype(np.float32)\n",
            "<ipython-input-14-b5f18661dcfe>:25: RuntimeWarning: overflow encountered in cast\n",
            "  if c_min > np.finfo(np.float16).min and c_max < np.finfo(np.float16).max:\n",
            "<ipython-input-14-b5f18661dcfe>:28: SettingWithCopyWarning: \n",
            "A value is trying to be set on a copy of a slice from a DataFrame.\n",
            "Try using .loc[row_indexer,col_indexer] = value instead\n",
            "\n",
            "See the caveats in the documentation: https://pandas.pydata.org/pandas-docs/stable/user_guide/indexing.html#returning-a-view-versus-a-copy\n",
            "  df[col] = df[col].astype(np.float32)\n",
            "<ipython-input-14-b5f18661dcfe>:25: RuntimeWarning: overflow encountered in cast\n",
            "  if c_min > np.finfo(np.float16).min and c_max < np.finfo(np.float16).max:\n",
            "<ipython-input-14-b5f18661dcfe>:28: SettingWithCopyWarning: \n",
            "A value is trying to be set on a copy of a slice from a DataFrame.\n",
            "Try using .loc[row_indexer,col_indexer] = value instead\n",
            "\n",
            "See the caveats in the documentation: https://pandas.pydata.org/pandas-docs/stable/user_guide/indexing.html#returning-a-view-versus-a-copy\n",
            "  df[col] = df[col].astype(np.float32)\n",
            "<ipython-input-14-b5f18661dcfe>:25: RuntimeWarning: overflow encountered in cast\n",
            "  if c_min > np.finfo(np.float16).min and c_max < np.finfo(np.float16).max:\n",
            "<ipython-input-14-b5f18661dcfe>:28: SettingWithCopyWarning: \n",
            "A value is trying to be set on a copy of a slice from a DataFrame.\n",
            "Try using .loc[row_indexer,col_indexer] = value instead\n",
            "\n",
            "See the caveats in the documentation: https://pandas.pydata.org/pandas-docs/stable/user_guide/indexing.html#returning-a-view-versus-a-copy\n",
            "  df[col] = df[col].astype(np.float32)\n",
            "<ipython-input-14-b5f18661dcfe>:25: RuntimeWarning: overflow encountered in cast\n",
            "  if c_min > np.finfo(np.float16).min and c_max < np.finfo(np.float16).max:\n",
            "<ipython-input-14-b5f18661dcfe>:28: SettingWithCopyWarning: \n",
            "A value is trying to be set on a copy of a slice from a DataFrame.\n",
            "Try using .loc[row_indexer,col_indexer] = value instead\n",
            "\n",
            "See the caveats in the documentation: https://pandas.pydata.org/pandas-docs/stable/user_guide/indexing.html#returning-a-view-versus-a-copy\n",
            "  df[col] = df[col].astype(np.float32)\n",
            "<ipython-input-14-b5f18661dcfe>:25: RuntimeWarning: overflow encountered in cast\n",
            "  if c_min > np.finfo(np.float16).min and c_max < np.finfo(np.float16).max:\n",
            "<ipython-input-14-b5f18661dcfe>:28: SettingWithCopyWarning: \n",
            "A value is trying to be set on a copy of a slice from a DataFrame.\n",
            "Try using .loc[row_indexer,col_indexer] = value instead\n",
            "\n",
            "See the caveats in the documentation: https://pandas.pydata.org/pandas-docs/stable/user_guide/indexing.html#returning-a-view-versus-a-copy\n",
            "  df[col] = df[col].astype(np.float32)\n",
            "<ipython-input-14-b5f18661dcfe>:25: RuntimeWarning: overflow encountered in cast\n",
            "  if c_min > np.finfo(np.float16).min and c_max < np.finfo(np.float16).max:\n",
            "<ipython-input-14-b5f18661dcfe>:28: SettingWithCopyWarning: \n",
            "A value is trying to be set on a copy of a slice from a DataFrame.\n",
            "Try using .loc[row_indexer,col_indexer] = value instead\n",
            "\n",
            "See the caveats in the documentation: https://pandas.pydata.org/pandas-docs/stable/user_guide/indexing.html#returning-a-view-versus-a-copy\n",
            "  df[col] = df[col].astype(np.float32)\n",
            "<ipython-input-14-b5f18661dcfe>:26: SettingWithCopyWarning: \n",
            "A value is trying to be set on a copy of a slice from a DataFrame.\n",
            "Try using .loc[row_indexer,col_indexer] = value instead\n",
            "\n",
            "See the caveats in the documentation: https://pandas.pydata.org/pandas-docs/stable/user_guide/indexing.html#returning-a-view-versus-a-copy\n",
            "  df[col] = df[col].astype(np.float16)\n",
            "<ipython-input-14-b5f18661dcfe>:25: RuntimeWarning: overflow encountered in cast\n",
            "  if c_min > np.finfo(np.float16).min and c_max < np.finfo(np.float16).max:\n",
            "<ipython-input-14-b5f18661dcfe>:28: SettingWithCopyWarning: \n",
            "A value is trying to be set on a copy of a slice from a DataFrame.\n",
            "Try using .loc[row_indexer,col_indexer] = value instead\n",
            "\n",
            "See the caveats in the documentation: https://pandas.pydata.org/pandas-docs/stable/user_guide/indexing.html#returning-a-view-versus-a-copy\n",
            "  df[col] = df[col].astype(np.float32)\n",
            "<ipython-input-14-b5f18661dcfe>:25: RuntimeWarning: overflow encountered in cast\n",
            "  if c_min > np.finfo(np.float16).min and c_max < np.finfo(np.float16).max:\n",
            "<ipython-input-14-b5f18661dcfe>:28: SettingWithCopyWarning: \n",
            "A value is trying to be set on a copy of a slice from a DataFrame.\n",
            "Try using .loc[row_indexer,col_indexer] = value instead\n",
            "\n",
            "See the caveats in the documentation: https://pandas.pydata.org/pandas-docs/stable/user_guide/indexing.html#returning-a-view-versus-a-copy\n",
            "  df[col] = df[col].astype(np.float32)\n",
            "<ipython-input-14-b5f18661dcfe>:25: RuntimeWarning: overflow encountered in cast\n",
            "  if c_min > np.finfo(np.float16).min and c_max < np.finfo(np.float16).max:\n",
            "<ipython-input-14-b5f18661dcfe>:28: SettingWithCopyWarning: \n",
            "A value is trying to be set on a copy of a slice from a DataFrame.\n",
            "Try using .loc[row_indexer,col_indexer] = value instead\n",
            "\n",
            "See the caveats in the documentation: https://pandas.pydata.org/pandas-docs/stable/user_guide/indexing.html#returning-a-view-versus-a-copy\n",
            "  df[col] = df[col].astype(np.float32)\n",
            "<ipython-input-14-b5f18661dcfe>:25: RuntimeWarning: overflow encountered in cast\n",
            "  if c_min > np.finfo(np.float16).min and c_max < np.finfo(np.float16).max:\n",
            "<ipython-input-14-b5f18661dcfe>:28: SettingWithCopyWarning: \n",
            "A value is trying to be set on a copy of a slice from a DataFrame.\n",
            "Try using .loc[row_indexer,col_indexer] = value instead\n",
            "\n",
            "See the caveats in the documentation: https://pandas.pydata.org/pandas-docs/stable/user_guide/indexing.html#returning-a-view-versus-a-copy\n",
            "  df[col] = df[col].astype(np.float32)\n",
            "<ipython-input-14-b5f18661dcfe>:30: SettingWithCopyWarning: \n",
            "A value is trying to be set on a copy of a slice from a DataFrame.\n",
            "Try using .loc[row_indexer,col_indexer] = value instead\n",
            "\n",
            "See the caveats in the documentation: https://pandas.pydata.org/pandas-docs/stable/user_guide/indexing.html#returning-a-view-versus-a-copy\n",
            "  df[col] = df[col].astype(np.float64)\n",
            "<ipython-input-14-b5f18661dcfe>:25: RuntimeWarning: overflow encountered in cast\n",
            "  if c_min > np.finfo(np.float16).min and c_max < np.finfo(np.float16).max:\n",
            "<ipython-input-14-b5f18661dcfe>:28: SettingWithCopyWarning: \n",
            "A value is trying to be set on a copy of a slice from a DataFrame.\n",
            "Try using .loc[row_indexer,col_indexer] = value instead\n",
            "\n",
            "See the caveats in the documentation: https://pandas.pydata.org/pandas-docs/stable/user_guide/indexing.html#returning-a-view-versus-a-copy\n",
            "  df[col] = df[col].astype(np.float32)\n",
            "<ipython-input-14-b5f18661dcfe>:25: RuntimeWarning: overflow encountered in cast\n",
            "  if c_min > np.finfo(np.float16).min and c_max < np.finfo(np.float16).max:\n",
            "<ipython-input-14-b5f18661dcfe>:28: SettingWithCopyWarning: \n",
            "A value is trying to be set on a copy of a slice from a DataFrame.\n",
            "Try using .loc[row_indexer,col_indexer] = value instead\n",
            "\n",
            "See the caveats in the documentation: https://pandas.pydata.org/pandas-docs/stable/user_guide/indexing.html#returning-a-view-versus-a-copy\n",
            "  df[col] = df[col].astype(np.float32)\n",
            "<ipython-input-14-b5f18661dcfe>:25: RuntimeWarning: overflow encountered in cast\n",
            "  if c_min > np.finfo(np.float16).min and c_max < np.finfo(np.float16).max:\n",
            "<ipython-input-14-b5f18661dcfe>:28: SettingWithCopyWarning: \n",
            "A value is trying to be set on a copy of a slice from a DataFrame.\n",
            "Try using .loc[row_indexer,col_indexer] = value instead\n",
            "\n",
            "See the caveats in the documentation: https://pandas.pydata.org/pandas-docs/stable/user_guide/indexing.html#returning-a-view-versus-a-copy\n",
            "  df[col] = df[col].astype(np.float32)\n",
            "<ipython-input-14-b5f18661dcfe>:25: RuntimeWarning: overflow encountered in cast\n",
            "  if c_min > np.finfo(np.float16).min and c_max < np.finfo(np.float16).max:\n",
            "<ipython-input-14-b5f18661dcfe>:28: SettingWithCopyWarning: \n",
            "A value is trying to be set on a copy of a slice from a DataFrame.\n",
            "Try using .loc[row_indexer,col_indexer] = value instead\n",
            "\n",
            "See the caveats in the documentation: https://pandas.pydata.org/pandas-docs/stable/user_guide/indexing.html#returning-a-view-versus-a-copy\n",
            "  df[col] = df[col].astype(np.float32)\n",
            "<ipython-input-14-b5f18661dcfe>:25: RuntimeWarning: overflow encountered in cast\n",
            "  if c_min > np.finfo(np.float16).min and c_max < np.finfo(np.float16).max:\n",
            "<ipython-input-14-b5f18661dcfe>:28: SettingWithCopyWarning: \n",
            "A value is trying to be set on a copy of a slice from a DataFrame.\n",
            "Try using .loc[row_indexer,col_indexer] = value instead\n",
            "\n",
            "See the caveats in the documentation: https://pandas.pydata.org/pandas-docs/stable/user_guide/indexing.html#returning-a-view-versus-a-copy\n",
            "  df[col] = df[col].astype(np.float32)\n",
            "<ipython-input-14-b5f18661dcfe>:25: RuntimeWarning: overflow encountered in cast\n",
            "  if c_min > np.finfo(np.float16).min and c_max < np.finfo(np.float16).max:\n",
            "<ipython-input-14-b5f18661dcfe>:28: SettingWithCopyWarning: \n",
            "A value is trying to be set on a copy of a slice from a DataFrame.\n",
            "Try using .loc[row_indexer,col_indexer] = value instead\n",
            "\n",
            "See the caveats in the documentation: https://pandas.pydata.org/pandas-docs/stable/user_guide/indexing.html#returning-a-view-versus-a-copy\n",
            "  df[col] = df[col].astype(np.float32)\n",
            "<ipython-input-14-b5f18661dcfe>:25: RuntimeWarning: overflow encountered in cast\n",
            "  if c_min > np.finfo(np.float16).min and c_max < np.finfo(np.float16).max:\n",
            "<ipython-input-14-b5f18661dcfe>:28: SettingWithCopyWarning: \n",
            "A value is trying to be set on a copy of a slice from a DataFrame.\n",
            "Try using .loc[row_indexer,col_indexer] = value instead\n",
            "\n",
            "See the caveats in the documentation: https://pandas.pydata.org/pandas-docs/stable/user_guide/indexing.html#returning-a-view-versus-a-copy\n",
            "  df[col] = df[col].astype(np.float32)\n",
            "<ipython-input-14-b5f18661dcfe>:25: RuntimeWarning: overflow encountered in cast\n",
            "  if c_min > np.finfo(np.float16).min and c_max < np.finfo(np.float16).max:\n",
            "<ipython-input-14-b5f18661dcfe>:28: SettingWithCopyWarning: \n",
            "A value is trying to be set on a copy of a slice from a DataFrame.\n",
            "Try using .loc[row_indexer,col_indexer] = value instead\n",
            "\n",
            "See the caveats in the documentation: https://pandas.pydata.org/pandas-docs/stable/user_guide/indexing.html#returning-a-view-versus-a-copy\n",
            "  df[col] = df[col].astype(np.float32)\n",
            "<ipython-input-14-b5f18661dcfe>:25: RuntimeWarning: overflow encountered in cast\n",
            "  if c_min > np.finfo(np.float16).min and c_max < np.finfo(np.float16).max:\n",
            "<ipython-input-14-b5f18661dcfe>:28: SettingWithCopyWarning: \n",
            "A value is trying to be set on a copy of a slice from a DataFrame.\n",
            "Try using .loc[row_indexer,col_indexer] = value instead\n",
            "\n",
            "See the caveats in the documentation: https://pandas.pydata.org/pandas-docs/stable/user_guide/indexing.html#returning-a-view-versus-a-copy\n",
            "  df[col] = df[col].astype(np.float32)\n",
            "<ipython-input-14-b5f18661dcfe>:25: RuntimeWarning: overflow encountered in cast\n",
            "  if c_min > np.finfo(np.float16).min and c_max < np.finfo(np.float16).max:\n",
            "<ipython-input-14-b5f18661dcfe>:28: SettingWithCopyWarning: \n",
            "A value is trying to be set on a copy of a slice from a DataFrame.\n",
            "Try using .loc[row_indexer,col_indexer] = value instead\n",
            "\n",
            "See the caveats in the documentation: https://pandas.pydata.org/pandas-docs/stable/user_guide/indexing.html#returning-a-view-versus-a-copy\n",
            "  df[col] = df[col].astype(np.float32)\n",
            "<ipython-input-14-b5f18661dcfe>:25: RuntimeWarning: overflow encountered in cast\n",
            "  if c_min > np.finfo(np.float16).min and c_max < np.finfo(np.float16).max:\n",
            "<ipython-input-14-b5f18661dcfe>:28: SettingWithCopyWarning: \n",
            "A value is trying to be set on a copy of a slice from a DataFrame.\n",
            "Try using .loc[row_indexer,col_indexer] = value instead\n",
            "\n",
            "See the caveats in the documentation: https://pandas.pydata.org/pandas-docs/stable/user_guide/indexing.html#returning-a-view-versus-a-copy\n",
            "  df[col] = df[col].astype(np.float32)\n",
            "<ipython-input-14-b5f18661dcfe>:30: SettingWithCopyWarning: \n",
            "A value is trying to be set on a copy of a slice from a DataFrame.\n",
            "Try using .loc[row_indexer,col_indexer] = value instead\n",
            "\n",
            "See the caveats in the documentation: https://pandas.pydata.org/pandas-docs/stable/user_guide/indexing.html#returning-a-view-versus-a-copy\n",
            "  df[col] = df[col].astype(np.float64)\n",
            "<ipython-input-14-b5f18661dcfe>:26: SettingWithCopyWarning: \n",
            "A value is trying to be set on a copy of a slice from a DataFrame.\n",
            "Try using .loc[row_indexer,col_indexer] = value instead\n",
            "\n",
            "See the caveats in the documentation: https://pandas.pydata.org/pandas-docs/stable/user_guide/indexing.html#returning-a-view-versus-a-copy\n",
            "  df[col] = df[col].astype(np.float16)\n",
            "<ipython-input-14-b5f18661dcfe>:25: RuntimeWarning: overflow encountered in cast\n",
            "  if c_min > np.finfo(np.float16).min and c_max < np.finfo(np.float16).max:\n",
            "<ipython-input-14-b5f18661dcfe>:28: SettingWithCopyWarning: \n",
            "A value is trying to be set on a copy of a slice from a DataFrame.\n",
            "Try using .loc[row_indexer,col_indexer] = value instead\n",
            "\n",
            "See the caveats in the documentation: https://pandas.pydata.org/pandas-docs/stable/user_guide/indexing.html#returning-a-view-versus-a-copy\n",
            "  df[col] = df[col].astype(np.float32)\n",
            "<ipython-input-14-b5f18661dcfe>:30: SettingWithCopyWarning: \n",
            "A value is trying to be set on a copy of a slice from a DataFrame.\n",
            "Try using .loc[row_indexer,col_indexer] = value instead\n",
            "\n",
            "See the caveats in the documentation: https://pandas.pydata.org/pandas-docs/stable/user_guide/indexing.html#returning-a-view-versus-a-copy\n",
            "  df[col] = df[col].astype(np.float64)\n"
          ]
        }
      ],
      "source": [
        "X_train = reduce_mem_usage(X_train)\n",
        "X_valid = reduce_mem_usage(X_valid)\n",
        "X_test = reduce_mem_usage(X_test)"
      ]
    },
    {
      "cell_type": "markdown",
      "metadata": {
        "id": "MqjrsK66swGZ"
      },
      "source": [
        "# Exploratory Analysis & Preprocessing"
      ]
    },
    {
      "cell_type": "code",
      "source": [
        "base_train[\"target\"].sum()/base_train[\"target\"].count()"
      ],
      "metadata": {
        "colab": {
          "base_uri": "https://localhost:8080/"
        },
        "id": "UbBqJGfA5Ly0",
        "outputId": "0fc9e7e9-cfd2-4fe8-e060-f810b59212ab"
      },
      "execution_count": 16,
      "outputs": [
        {
          "output_type": "execute_result",
          "data": {
            "text/plain": [
              "np.float64(0.03253440632110944)"
            ]
          },
          "metadata": {},
          "execution_count": 16
        }
      ]
    },
    {
      "cell_type": "code",
      "execution_count": 17,
      "metadata": {
        "colab": {
          "base_uri": "https://localhost:8080/"
        },
        "collapsed": true,
        "id": "vXe4YdpWsyua",
        "outputId": "e7587a30-ec0e-4c29-a1e9-2cf00cae511f"
      },
      "outputs": [
        {
          "output_type": "stream",
          "name": "stdout",
          "text": [
            "<class 'pandas.core.frame.DataFrame'>\n",
            "Index: 1232695 entries, 0 to 1495629\n",
            "Data columns (total 48 columns):\n",
            " #   Column                           Non-Null Count    Dtype   \n",
            "---  ------                           --------------    -----   \n",
            " 0   amtinstpaidbefduel24m_4187115A   738244 non-null   float32 \n",
            " 1   annuity_780A                     1232695 non-null  float32 \n",
            " 2   annuitynextmonth_57A             1232693 non-null  float32 \n",
            " 3   avginstallast24m_3658937A        707648 non-null   float32 \n",
            " 4   avglnamtstart24m_4525187A        116566 non-null   float32 \n",
            " 5   avgoutstandbalancel6m_4187114A   522515 non-null   float32 \n",
            " 6   avgpmtlast12m_4525200A           322285 non-null   float32 \n",
            " 7   credamount_770A                  1232695 non-null  float32 \n",
            " 8   currdebt_22A                     1232693 non-null  float32 \n",
            " 9   currdebtcredtyperange_828A       1232693 non-null  float32 \n",
            " 10  disbursedcredamount_1113A        1232695 non-null  float32 \n",
            " 11  downpmt_116A                     1232695 non-null  float32 \n",
            " 12  inittransactionamount_650A       163252 non-null   float32 \n",
            " 13  lastapprcommoditycat_1041M       1232695 non-null  category\n",
            " 14  lastapprcommoditytypec_5251766M  1232695 non-null  category\n",
            " 15  lastapprcredamount_781A          855545 non-null   float32 \n",
            " 16  lastcancelreason_561M            1232695 non-null  category\n",
            " 17  lastotherinc_902A                2582 non-null     float16 \n",
            " 18  lastotherlnsexpense_631A         2548 non-null     float32 \n",
            " 19  lastrejectcommoditycat_161M      1232695 non-null  category\n",
            " 20  lastrejectcommodtypec_5251769M   1232695 non-null  category\n",
            " 21  lastrejectcredamount_222A        591024 non-null   float32 \n",
            " 22  lastrejectreason_759M            1232695 non-null  category\n",
            " 23  lastrejectreasonclient_4145040M  1232695 non-null  category\n",
            " 24  maininc_215A                     814688 non-null   float32 \n",
            " 25  maxannuity_159A                  967592 non-null   float32 \n",
            " 26  maxannuity_4075009A              66743 non-null    float32 \n",
            " 27  maxdebt4_972A                    967592 non-null   float32 \n",
            " 28  maxinstallast24m_3658928A        707648 non-null   float32 \n",
            " 29  maxlnamtstart6m_4525199A         320716 non-null   float32 \n",
            " 30  maxoutstandbalancel12m_4187113A  577927 non-null   float32 \n",
            " 31  maxpmtlast3m_4525190A            257938 non-null   float32 \n",
            " 32  previouscontdistrict_112M        1232695 non-null  category\n",
            " 33  price_1097A                      1068151 non-null  float32 \n",
            " 34  sumoutstandtotal_3546847A        852592 non-null   float32 \n",
            " 35  sumoutstandtotalest_4493215A     458722 non-null   float32 \n",
            " 36  totaldebt_9A                     1232693 non-null  float32 \n",
            " 37  totalsettled_863A                1232693 non-null  float32 \n",
            " 38  totinstallast1m_4525188A         228097 non-null   float32 \n",
            " 39  description_5085714M             1206818 non-null  category\n",
            " 40  education_1103M                  1206818 non-null  category\n",
            " 41  education_88M                    1206818 non-null  category\n",
            " 42  maritalst_385M                   1206818 non-null  category\n",
            " 43  maritalst_893M                   1206818 non-null  category\n",
            " 44  pmtaverage_3A                    143589 non-null   float32 \n",
            " 45  pmtaverage_4527227A              100978 non-null   float32 \n",
            " 46  pmtaverage_4955615A              0 non-null        float64 \n",
            " 47  pmtssum_45A                      572638 non-null   float32 \n",
            "dtypes: category(13), float16(1), float32(33), float64(1)\n",
            "memory usage: 192.8 MB\n"
          ]
        }
      ],
      "source": [
        "X_train.info()"
      ]
    },
    {
      "cell_type": "code",
      "execution_count": 18,
      "metadata": {
        "colab": {
          "base_uri": "https://localhost:8080/",
          "height": 1000
        },
        "collapsed": true,
        "id": "sYWHzaxZtLnr",
        "outputId": "16b0f8d7-721c-4daf-df7b-15e0aa2fadb0"
      },
      "outputs": [
        {
          "output_type": "execute_result",
          "data": {
            "text/plain": [
              "amtinstpaidbefduel24m_4187115A     0.401114\n",
              "annuity_780A                       0.000000\n",
              "annuitynextmonth_57A               0.000002\n",
              "avginstallast24m_3658937A          0.425934\n",
              "avglnamtstart24m_4525187A          0.905438\n",
              "avgoutstandbalancel6m_4187114A     0.576120\n",
              "avgpmtlast12m_4525200A             0.738553\n",
              "credamount_770A                    0.000000\n",
              "currdebt_22A                       0.000002\n",
              "currdebtcredtyperange_828A         0.000002\n",
              "disbursedcredamount_1113A          0.000000\n",
              "downpmt_116A                       0.000000\n",
              "inittransactionamount_650A         0.867565\n",
              "lastapprcommoditycat_1041M         0.000000\n",
              "lastapprcommoditytypec_5251766M    0.000000\n",
              "lastapprcredamount_781A            0.305956\n",
              "lastcancelreason_561M              0.000000\n",
              "lastotherinc_902A                  0.997905\n",
              "lastotherlnsexpense_631A           0.997933\n",
              "lastrejectcommoditycat_161M        0.000000\n",
              "lastrejectcommodtypec_5251769M     0.000000\n",
              "lastrejectcredamount_222A          0.520543\n",
              "lastrejectreason_759M              0.000000\n",
              "lastrejectreasonclient_4145040M    0.000000\n",
              "maininc_215A                       0.339100\n",
              "maxannuity_159A                    0.215060\n",
              "maxannuity_4075009A                0.945856\n",
              "maxdebt4_972A                      0.215060\n",
              "maxinstallast24m_3658928A          0.425934\n",
              "maxlnamtstart6m_4525199A           0.739825\n",
              "maxoutstandbalancel12m_4187113A    0.531168\n",
              "maxpmtlast3m_4525190A              0.790753\n",
              "previouscontdistrict_112M          0.000000\n",
              "price_1097A                        0.133483\n",
              "sumoutstandtotal_3546847A          0.308351\n",
              "sumoutstandtotalest_4493215A       0.627871\n",
              "totaldebt_9A                       0.000002\n",
              "totalsettled_863A                  0.000002\n",
              "totinstallast1m_4525188A           0.814961\n",
              "description_5085714M               0.020992\n",
              "education_1103M                    0.020992\n",
              "education_88M                      0.020992\n",
              "maritalst_385M                     0.020992\n",
              "maritalst_893M                     0.020992\n",
              "pmtaverage_3A                      0.883516\n",
              "pmtaverage_4527227A                0.918084\n",
              "pmtaverage_4955615A                1.000000\n",
              "pmtssum_45A                        0.535458\n",
              "dtype: float64"
            ],
            "text/html": [
              "<div>\n",
              "<style scoped>\n",
              "    .dataframe tbody tr th:only-of-type {\n",
              "        vertical-align: middle;\n",
              "    }\n",
              "\n",
              "    .dataframe tbody tr th {\n",
              "        vertical-align: top;\n",
              "    }\n",
              "\n",
              "    .dataframe thead th {\n",
              "        text-align: right;\n",
              "    }\n",
              "</style>\n",
              "<table border=\"1\" class=\"dataframe\">\n",
              "  <thead>\n",
              "    <tr style=\"text-align: right;\">\n",
              "      <th></th>\n",
              "      <th>0</th>\n",
              "    </tr>\n",
              "  </thead>\n",
              "  <tbody>\n",
              "    <tr>\n",
              "      <th>amtinstpaidbefduel24m_4187115A</th>\n",
              "      <td>0.401114</td>\n",
              "    </tr>\n",
              "    <tr>\n",
              "      <th>annuity_780A</th>\n",
              "      <td>0.000000</td>\n",
              "    </tr>\n",
              "    <tr>\n",
              "      <th>annuitynextmonth_57A</th>\n",
              "      <td>0.000002</td>\n",
              "    </tr>\n",
              "    <tr>\n",
              "      <th>avginstallast24m_3658937A</th>\n",
              "      <td>0.425934</td>\n",
              "    </tr>\n",
              "    <tr>\n",
              "      <th>avglnamtstart24m_4525187A</th>\n",
              "      <td>0.905438</td>\n",
              "    </tr>\n",
              "    <tr>\n",
              "      <th>avgoutstandbalancel6m_4187114A</th>\n",
              "      <td>0.576120</td>\n",
              "    </tr>\n",
              "    <tr>\n",
              "      <th>avgpmtlast12m_4525200A</th>\n",
              "      <td>0.738553</td>\n",
              "    </tr>\n",
              "    <tr>\n",
              "      <th>credamount_770A</th>\n",
              "      <td>0.000000</td>\n",
              "    </tr>\n",
              "    <tr>\n",
              "      <th>currdebt_22A</th>\n",
              "      <td>0.000002</td>\n",
              "    </tr>\n",
              "    <tr>\n",
              "      <th>currdebtcredtyperange_828A</th>\n",
              "      <td>0.000002</td>\n",
              "    </tr>\n",
              "    <tr>\n",
              "      <th>disbursedcredamount_1113A</th>\n",
              "      <td>0.000000</td>\n",
              "    </tr>\n",
              "    <tr>\n",
              "      <th>downpmt_116A</th>\n",
              "      <td>0.000000</td>\n",
              "    </tr>\n",
              "    <tr>\n",
              "      <th>inittransactionamount_650A</th>\n",
              "      <td>0.867565</td>\n",
              "    </tr>\n",
              "    <tr>\n",
              "      <th>lastapprcommoditycat_1041M</th>\n",
              "      <td>0.000000</td>\n",
              "    </tr>\n",
              "    <tr>\n",
              "      <th>lastapprcommoditytypec_5251766M</th>\n",
              "      <td>0.000000</td>\n",
              "    </tr>\n",
              "    <tr>\n",
              "      <th>lastapprcredamount_781A</th>\n",
              "      <td>0.305956</td>\n",
              "    </tr>\n",
              "    <tr>\n",
              "      <th>lastcancelreason_561M</th>\n",
              "      <td>0.000000</td>\n",
              "    </tr>\n",
              "    <tr>\n",
              "      <th>lastotherinc_902A</th>\n",
              "      <td>0.997905</td>\n",
              "    </tr>\n",
              "    <tr>\n",
              "      <th>lastotherlnsexpense_631A</th>\n",
              "      <td>0.997933</td>\n",
              "    </tr>\n",
              "    <tr>\n",
              "      <th>lastrejectcommoditycat_161M</th>\n",
              "      <td>0.000000</td>\n",
              "    </tr>\n",
              "    <tr>\n",
              "      <th>lastrejectcommodtypec_5251769M</th>\n",
              "      <td>0.000000</td>\n",
              "    </tr>\n",
              "    <tr>\n",
              "      <th>lastrejectcredamount_222A</th>\n",
              "      <td>0.520543</td>\n",
              "    </tr>\n",
              "    <tr>\n",
              "      <th>lastrejectreason_759M</th>\n",
              "      <td>0.000000</td>\n",
              "    </tr>\n",
              "    <tr>\n",
              "      <th>lastrejectreasonclient_4145040M</th>\n",
              "      <td>0.000000</td>\n",
              "    </tr>\n",
              "    <tr>\n",
              "      <th>maininc_215A</th>\n",
              "      <td>0.339100</td>\n",
              "    </tr>\n",
              "    <tr>\n",
              "      <th>maxannuity_159A</th>\n",
              "      <td>0.215060</td>\n",
              "    </tr>\n",
              "    <tr>\n",
              "      <th>maxannuity_4075009A</th>\n",
              "      <td>0.945856</td>\n",
              "    </tr>\n",
              "    <tr>\n",
              "      <th>maxdebt4_972A</th>\n",
              "      <td>0.215060</td>\n",
              "    </tr>\n",
              "    <tr>\n",
              "      <th>maxinstallast24m_3658928A</th>\n",
              "      <td>0.425934</td>\n",
              "    </tr>\n",
              "    <tr>\n",
              "      <th>maxlnamtstart6m_4525199A</th>\n",
              "      <td>0.739825</td>\n",
              "    </tr>\n",
              "    <tr>\n",
              "      <th>maxoutstandbalancel12m_4187113A</th>\n",
              "      <td>0.531168</td>\n",
              "    </tr>\n",
              "    <tr>\n",
              "      <th>maxpmtlast3m_4525190A</th>\n",
              "      <td>0.790753</td>\n",
              "    </tr>\n",
              "    <tr>\n",
              "      <th>previouscontdistrict_112M</th>\n",
              "      <td>0.000000</td>\n",
              "    </tr>\n",
              "    <tr>\n",
              "      <th>price_1097A</th>\n",
              "      <td>0.133483</td>\n",
              "    </tr>\n",
              "    <tr>\n",
              "      <th>sumoutstandtotal_3546847A</th>\n",
              "      <td>0.308351</td>\n",
              "    </tr>\n",
              "    <tr>\n",
              "      <th>sumoutstandtotalest_4493215A</th>\n",
              "      <td>0.627871</td>\n",
              "    </tr>\n",
              "    <tr>\n",
              "      <th>totaldebt_9A</th>\n",
              "      <td>0.000002</td>\n",
              "    </tr>\n",
              "    <tr>\n",
              "      <th>totalsettled_863A</th>\n",
              "      <td>0.000002</td>\n",
              "    </tr>\n",
              "    <tr>\n",
              "      <th>totinstallast1m_4525188A</th>\n",
              "      <td>0.814961</td>\n",
              "    </tr>\n",
              "    <tr>\n",
              "      <th>description_5085714M</th>\n",
              "      <td>0.020992</td>\n",
              "    </tr>\n",
              "    <tr>\n",
              "      <th>education_1103M</th>\n",
              "      <td>0.020992</td>\n",
              "    </tr>\n",
              "    <tr>\n",
              "      <th>education_88M</th>\n",
              "      <td>0.020992</td>\n",
              "    </tr>\n",
              "    <tr>\n",
              "      <th>maritalst_385M</th>\n",
              "      <td>0.020992</td>\n",
              "    </tr>\n",
              "    <tr>\n",
              "      <th>maritalst_893M</th>\n",
              "      <td>0.020992</td>\n",
              "    </tr>\n",
              "    <tr>\n",
              "      <th>pmtaverage_3A</th>\n",
              "      <td>0.883516</td>\n",
              "    </tr>\n",
              "    <tr>\n",
              "      <th>pmtaverage_4527227A</th>\n",
              "      <td>0.918084</td>\n",
              "    </tr>\n",
              "    <tr>\n",
              "      <th>pmtaverage_4955615A</th>\n",
              "      <td>1.000000</td>\n",
              "    </tr>\n",
              "    <tr>\n",
              "      <th>pmtssum_45A</th>\n",
              "      <td>0.535458</td>\n",
              "    </tr>\n",
              "  </tbody>\n",
              "</table>\n",
              "</div><br><label><b>dtype:</b> float64</label>"
            ]
          },
          "metadata": {},
          "execution_count": 18
        }
      ],
      "source": [
        "X_train.isna().sum() / X_train.shape[0]"
      ]
    },
    {
      "cell_type": "code",
      "execution_count": 19,
      "metadata": {
        "id": "fnyGaZf10KSI"
      },
      "outputs": [],
      "source": [
        "numeric_features = X_train.select_dtypes(include=['int64', 'float64', 'float16', 'float32']).columns\n",
        "categorical_features = X_train.select_dtypes(include=['object', 'category']).columns"
      ]
    },
    {
      "cell_type": "code",
      "execution_count": 20,
      "metadata": {
        "id": "Ax5_hMGEzkdY"
      },
      "outputs": [],
      "source": [
        "preprocessor = ColumnTransformer(\n",
        "    transformers=[\n",
        "        ('num', Pipeline(steps=[\n",
        "            ('imputer', SimpleImputer(strategy='median')),\n",
        "            ('scaler', StandardScaler())\n",
        "        ]), numeric_features),\n",
        "        ('cat', Pipeline(steps=[\n",
        "            ('imputer', SimpleImputer(strategy='most_frequent')),\n",
        "            ('onehot', OneHotEncoder(handle_unknown='ignore'))\n",
        "        ]), categorical_features)\n",
        "    ])"
      ]
    },
    {
      "cell_type": "code",
      "execution_count": 21,
      "metadata": {
        "id": "xf2oJqozxgeY",
        "colab": {
          "base_uri": "https://localhost:8080/"
        },
        "outputId": "e55df710-6061-4918-d573-7bd8e6b6f8be"
      },
      "outputs": [
        {
          "output_type": "stream",
          "name": "stderr",
          "text": [
            "/usr/local/lib/python3.11/dist-packages/sklearn/impute/_base.py:635: UserWarning: Skipping features without any observed values: ['pmtaverage_4955615A']. At least one non-missing value is needed for imputation with strategy='median'.\n",
            "  warnings.warn(\n",
            "/usr/local/lib/python3.11/dist-packages/sklearn/impute/_base.py:635: UserWarning: Skipping features without any observed values: ['pmtaverage_4955615A']. At least one non-missing value is needed for imputation with strategy='median'.\n",
            "  warnings.warn(\n",
            "/usr/local/lib/python3.11/dist-packages/sklearn/impute/_base.py:635: UserWarning: Skipping features without any observed values: ['pmtaverage_4955615A']. At least one non-missing value is needed for imputation with strategy='median'.\n",
            "  warnings.warn(\n",
            "/usr/local/lib/python3.11/dist-packages/sklearn/impute/_base.py:635: UserWarning: Skipping features without any observed values: ['pmtaverage_4955615A']. At least one non-missing value is needed for imputation with strategy='median'.\n",
            "  warnings.warn(\n"
          ]
        }
      ],
      "source": [
        "preprocessor.fit(X_train)\n",
        "X_train = preprocessor.transform(X_train)\n",
        "X_valid = preprocessor.transform(X_valid)\n",
        "X_test = preprocessor.transform(X_test)"
      ]
    },
    {
      "cell_type": "markdown",
      "metadata": {
        "id": "InVzQl-q0Oxb"
      },
      "source": [
        "# Artificial Neural Network"
      ]
    },
    {
      "cell_type": "code",
      "source": [
        "import gc\n",
        "del data\n",
        "gc.collect()"
      ],
      "metadata": {
        "colab": {
          "base_uri": "https://localhost:8080/"
        },
        "id": "KzTfUDZo8Cwo",
        "outputId": "716ed05a-b1e8-44ca-db2c-1178c820e9de"
      },
      "execution_count": 22,
      "outputs": [
        {
          "output_type": "execute_result",
          "data": {
            "text/plain": [
              "172"
            ]
          },
          "metadata": {},
          "execution_count": 22
        }
      ]
    },
    {
      "cell_type": "code",
      "source": [
        "model = keras.Sequential([\n",
        "    keras.layers.Dense(64, activation='relu', input_shape=(X_train.shape[1],)),\n",
        "    keras.layers.Dropout(0.2),\n",
        "    keras.layers.Dense(32, activation='relu'),\n",
        "    keras.layers.Dropout(0.2),\n",
        "    keras.layers.Dense(1, activation='sigmoid')])"
      ],
      "metadata": {
        "colab": {
          "base_uri": "https://localhost:8080/"
        },
        "id": "_H_Dr5d-9jYR",
        "outputId": "d664c7e6-a25c-4ea0-9073-8e602e503521"
      },
      "execution_count": 23,
      "outputs": [
        {
          "output_type": "stream",
          "name": "stderr",
          "text": [
            "/usr/local/lib/python3.11/dist-packages/keras/src/layers/core/dense.py:87: UserWarning: Do not pass an `input_shape`/`input_dim` argument to a layer. When using Sequential models, prefer using an `Input(shape)` object as the first layer in the model instead.\n",
            "  super().__init__(activity_regularizer=activity_regularizer, **kwargs)\n"
          ]
        }
      ]
    },
    {
      "cell_type": "code",
      "source": [
        "model.compile(\n",
        "    optimizer=keras.optimizers.Adam(learning_rate=0.0001),\n",
        "    loss='binary_crossentropy',\n",
        "    metrics=['AUC'])"
      ],
      "metadata": {
        "id": "FNPoU65l94BS"
      },
      "execution_count": 24,
      "outputs": []
    },
    {
      "cell_type": "code",
      "source": [
        "early_stopping = keras.callbacks.EarlyStopping(\n",
        "    monitor='val_loss',\n",
        "    patience=10,\n",
        "    restore_best_weights=True)\n",
        "\n",
        "history = model.fit(\n",
        "    X_train, y_train,\n",
        "    validation_data=(X_valid, y_valid),\n",
        "    batch_size=128,\n",
        "    epochs=50,\n",
        "    callbacks=[early_stopping],\n",
        "    verbose=2)"
      ],
      "metadata": {
        "colab": {
          "base_uri": "https://localhost:8080/"
        },
        "id": "FcvozhIP-EiE",
        "outputId": "bdab11fa-7786-4b0c-d53d-0e171436d6c4"
      },
      "execution_count": 25,
      "outputs": [
        {
          "output_type": "stream",
          "name": "stdout",
          "text": [
            "Epoch 1/50\n",
            "9631/9631 - 68s - 7ms/step - AUC: 0.6366 - loss: 0.1471 - val_AUC: 0.7191 - val_loss: 0.1348\n",
            "Epoch 2/50\n",
            "9631/9631 - 82s - 9ms/step - AUC: 0.6836 - loss: 0.1372 - val_AUC: 0.7281 - val_loss: 0.1328\n",
            "Epoch 3/50\n",
            "9631/9631 - 78s - 8ms/step - AUC: 0.6930 - loss: 0.1360 - val_AUC: 0.7332 - val_loss: 0.1324\n",
            "Epoch 4/50\n",
            "9631/9631 - 82s - 9ms/step - AUC: 0.6996 - loss: 0.1353 - val_AUC: 0.7373 - val_loss: 0.1320\n",
            "Epoch 5/50\n",
            "9631/9631 - 61s - 6ms/step - AUC: 0.7052 - loss: 0.1347 - val_AUC: 0.7393 - val_loss: 0.1322\n",
            "Epoch 6/50\n",
            "9631/9631 - 65s - 7ms/step - AUC: 0.7092 - loss: 0.1342 - val_AUC: 0.7415 - val_loss: 0.1322\n",
            "Epoch 7/50\n",
            "9631/9631 - 81s - 8ms/step - AUC: 0.7128 - loss: 0.1338 - val_AUC: 0.7418 - val_loss: 0.1313\n",
            "Epoch 8/50\n",
            "9631/9631 - 62s - 6ms/step - AUC: 0.7161 - loss: 0.1334 - val_AUC: 0.7452 - val_loss: 0.1306\n",
            "Epoch 9/50\n",
            "9631/9631 - 64s - 7ms/step - AUC: 0.7184 - loss: 0.1331 - val_AUC: 0.7452 - val_loss: 0.1313\n",
            "Epoch 10/50\n",
            "9631/9631 - 65s - 7ms/step - AUC: 0.7204 - loss: 0.1328 - val_AUC: 0.7453 - val_loss: 0.1313\n",
            "Epoch 11/50\n",
            "9631/9631 - 65s - 7ms/step - AUC: 0.7238 - loss: 0.1325 - val_AUC: 0.7470 - val_loss: 0.1307\n",
            "Epoch 12/50\n",
            "9631/9631 - 82s - 9ms/step - AUC: 0.7239 - loss: 0.1325 - val_AUC: 0.7473 - val_loss: 0.1308\n",
            "Epoch 13/50\n",
            "9631/9631 - 83s - 9ms/step - AUC: 0.7260 - loss: 0.1322 - val_AUC: 0.7472 - val_loss: 0.1304\n",
            "Epoch 14/50\n",
            "9631/9631 - 64s - 7ms/step - AUC: 0.7286 - loss: 0.1320 - val_AUC: 0.7471 - val_loss: 0.1306\n",
            "Epoch 15/50\n",
            "9631/9631 - 61s - 6ms/step - AUC: 0.7296 - loss: 0.1318 - val_AUC: 0.7479 - val_loss: 0.1307\n",
            "Epoch 16/50\n",
            "9631/9631 - 89s - 9ms/step - AUC: 0.7307 - loss: 0.1317 - val_AUC: 0.7475 - val_loss: 0.1305\n",
            "Epoch 17/50\n",
            "9631/9631 - 75s - 8ms/step - AUC: 0.7315 - loss: 0.1315 - val_AUC: 0.7459 - val_loss: 0.1307\n",
            "Epoch 18/50\n",
            "9631/9631 - 63s - 6ms/step - AUC: 0.7311 - loss: 0.1315 - val_AUC: 0.7455 - val_loss: 0.1308\n",
            "Epoch 19/50\n",
            "9631/9631 - 81s - 8ms/step - AUC: 0.7343 - loss: 0.1312 - val_AUC: 0.7467 - val_loss: 0.1306\n",
            "Epoch 20/50\n",
            "9631/9631 - 83s - 9ms/step - AUC: 0.7339 - loss: 0.1312 - val_AUC: 0.7464 - val_loss: 0.1306\n",
            "Epoch 21/50\n",
            "9631/9631 - 63s - 7ms/step - AUC: 0.7357 - loss: 0.1310 - val_AUC: 0.7447 - val_loss: 0.1308\n",
            "Epoch 22/50\n",
            "9631/9631 - 81s - 8ms/step - AUC: 0.7368 - loss: 0.1308 - val_AUC: 0.7466 - val_loss: 0.1306\n",
            "Epoch 23/50\n",
            "9631/9631 - 82s - 9ms/step - AUC: 0.7383 - loss: 0.1307 - val_AUC: 0.7457 - val_loss: 0.1309\n"
          ]
        }
      ]
    },
    {
      "cell_type": "code",
      "execution_count": 26,
      "metadata": {
        "id": "m1pLXk2QuFTj",
        "colab": {
          "base_uri": "https://localhost:8080/"
        },
        "outputId": "e09ca6a0-c964-4f09-aa2e-dae478439ae9"
      },
      "outputs": [
        {
          "output_type": "stream",
          "name": "stdout",
          "text": [
            "\u001b[1m38522/38522\u001b[0m \u001b[32m━━━━━━━━━━━━━━━━━━━━\u001b[0m\u001b[37m\u001b[0m \u001b[1m171s\u001b[0m 4ms/step\n"
          ]
        },
        {
          "output_type": "stream",
          "name": "stderr",
          "text": [
            "<ipython-input-26-3f685e86d8ce>:6: SettingWithCopyWarning: \n",
            "A value is trying to be set on a copy of a slice from a DataFrame.\n",
            "Try using .loc[row_indexer,col_indexer] = value instead\n",
            "\n",
            "See the caveats in the documentation: https://pandas.pydata.org/pandas-docs/stable/user_guide/indexing.html#returning-a-view-versus-a-copy\n",
            "  base[\"score\"] = y_pred\n",
            "<ipython-input-26-3f685e86d8ce>:7: SettingWithCopyWarning: \n",
            "A value is trying to be set on a copy of a slice from a DataFrame.\n",
            "Try using .loc[row_indexer,col_indexer] = value instead\n",
            "\n",
            "See the caveats in the documentation: https://pandas.pydata.org/pandas-docs/stable/user_guide/indexing.html#returning-a-view-versus-a-copy\n",
            "  base[\"pred\"] = y_pred_labels\n"
          ]
        },
        {
          "output_type": "stream",
          "name": "stdout",
          "text": [
            "\u001b[1m4492/4492\u001b[0m \u001b[32m━━━━━━━━━━━━━━━━━━━━\u001b[0m\u001b[37m\u001b[0m \u001b[1m13s\u001b[0m 3ms/step\n"
          ]
        },
        {
          "output_type": "stream",
          "name": "stderr",
          "text": [
            "<ipython-input-26-3f685e86d8ce>:6: SettingWithCopyWarning: \n",
            "A value is trying to be set on a copy of a slice from a DataFrame.\n",
            "Try using .loc[row_indexer,col_indexer] = value instead\n",
            "\n",
            "See the caveats in the documentation: https://pandas.pydata.org/pandas-docs/stable/user_guide/indexing.html#returning-a-view-versus-a-copy\n",
            "  base[\"score\"] = y_pred\n",
            "<ipython-input-26-3f685e86d8ce>:7: SettingWithCopyWarning: \n",
            "A value is trying to be set on a copy of a slice from a DataFrame.\n",
            "Try using .loc[row_indexer,col_indexer] = value instead\n",
            "\n",
            "See the caveats in the documentation: https://pandas.pydata.org/pandas-docs/stable/user_guide/indexing.html#returning-a-view-versus-a-copy\n",
            "  base[\"pred\"] = y_pred_labels\n"
          ]
        },
        {
          "output_type": "stream",
          "name": "stdout",
          "text": [
            "\u001b[1m4695/4695\u001b[0m \u001b[32m━━━━━━━━━━━━━━━━━━━━\u001b[0m\u001b[37m\u001b[0m \u001b[1m13s\u001b[0m 3ms/step\n"
          ]
        },
        {
          "output_type": "stream",
          "name": "stderr",
          "text": [
            "<ipython-input-26-3f685e86d8ce>:6: SettingWithCopyWarning: \n",
            "A value is trying to be set on a copy of a slice from a DataFrame.\n",
            "Try using .loc[row_indexer,col_indexer] = value instead\n",
            "\n",
            "See the caveats in the documentation: https://pandas.pydata.org/pandas-docs/stable/user_guide/indexing.html#returning-a-view-versus-a-copy\n",
            "  base[\"score\"] = y_pred\n",
            "<ipython-input-26-3f685e86d8ce>:7: SettingWithCopyWarning: \n",
            "A value is trying to be set on a copy of a slice from a DataFrame.\n",
            "Try using .loc[row_indexer,col_indexer] = value instead\n",
            "\n",
            "See the caveats in the documentation: https://pandas.pydata.org/pandas-docs/stable/user_guide/indexing.html#returning-a-view-versus-a-copy\n",
            "  base[\"pred\"] = y_pred_labels\n"
          ]
        }
      ],
      "source": [
        "for base, X in [(base_train, X_train), (base_valid, X_valid), (base_test, X_test)]:\n",
        "    y_pred = model.predict(X)\n",
        "    train_prevalence = y_train.mean()\n",
        "    threshold = np.percentile(y_pred, 100 * (1 - train_prevalence))\n",
        "    y_pred_labels = (y_pred > threshold).astype(int)\n",
        "    base[\"score\"] = y_pred\n",
        "    base[\"pred\"] = y_pred_labels"
      ]
    },
    {
      "cell_type": "markdown",
      "metadata": {
        "id": "f-t1_OFO0fPj"
      },
      "source": [
        "# Evaluation"
      ]
    },
    {
      "cell_type": "code",
      "execution_count": 27,
      "metadata": {
        "id": "xJ6iaIgQuJlS",
        "colab": {
          "base_uri": "https://localhost:8080/"
        },
        "outputId": "c3362b08-eec0-49c4-9e50-654525963dc8"
      },
      "outputs": [
        {
          "output_type": "stream",
          "name": "stdout",
          "text": [
            "The AUC score on the train set for ANN is: 0.7444308543334298\n",
            "The AUC score on the valid set for ANN is: 0.7481452133010275\n",
            "The AUC score on the test set for ANN is: 0.7547214630843773\n"
          ]
        }
      ],
      "source": [
        "print(f'The AUC score on the train set for ANN is: {roc_auc_score(base_train[\"target\"], base_train[\"score\"])}')\n",
        "print(f'The AUC score on the valid set for ANN is: {roc_auc_score(base_valid[\"target\"], base_valid[\"score\"])}')\n",
        "print(f'The AUC score on the test set for ANN is: {roc_auc_score(base_test[\"target\"], base_test[\"score\"])}')"
      ]
    },
    {
      "cell_type": "code",
      "source": [
        "print(f'The classification error on the train set for ANN is: {1- accuracy_score(base_train[\"target\"], base_train[\"pred\"])}')\n",
        "print(f'The classification error on the valid set for ANN is: {1-accuracy_score(base_valid[\"target\"], base_valid[\"pred\"])}')\n",
        "print(f'The classification error on the test set for ANN is: {1-accuracy_score(base_test[\"target\"], base_test[\"pred\"])}')"
      ],
      "metadata": {
        "colab": {
          "base_uri": "https://localhost:8080/"
        },
        "id": "Zx_QBO5g7jPC",
        "outputId": "3f973c93-2f6e-44a7-a2d4-b8a7a917e53a"
      },
      "execution_count": 28,
      "outputs": [
        {
          "output_type": "stream",
          "name": "stdout",
          "text": [
            "The classification error on the train set for ANN is: 0.05462665136144784\n",
            "The classification error on the valid set for ANN is: 0.05417327655784698\n",
            "The classification error on the test set for ANN is: 0.045946485623003186\n"
          ]
        }
      ]
    },
    {
      "cell_type": "code",
      "source": [
        "print(f'The brier score on the train set for ANN is: {brier_score_loss(base_train[\"target\"], base_train[\"score\"])}')\n",
        "print(f'The brier score on the valid set for ANN is: {brier_score_loss(base_valid[\"target\"], base_valid[\"score\"])}')\n",
        "print(f'The brier score on the test set for ANN is: {brier_score_loss(base_test[\"target\"], base_test[\"score\"])}')"
      ],
      "metadata": {
        "colab": {
          "base_uri": "https://localhost:8080/"
        },
        "id": "qGLpXEDH7DhZ",
        "outputId": "66dbecb9-d8be-4141-c9fc-5923fb921aa5"
      },
      "execution_count": 29,
      "outputs": [
        {
          "output_type": "stream",
          "name": "stdout",
          "text": [
            "The brier score on the train set for ANN is: 0.030369922527030815\n",
            "The brier score on the valid set for ANN is: 0.030433072018366192\n",
            "The brier score on the test set for ANN is: 0.020139483536333956\n"
          ]
        }
      ]
    },
    {
      "cell_type": "code",
      "execution_count": 30,
      "metadata": {
        "id": "e_1LZh3VuKf3"
      },
      "outputs": [],
      "source": [
        "def gini_stability(base, w_fallingrate=88.0, w_resstd=-0.5):\n",
        "    gini_in_time = base.loc[:, [\"WEEK_NUM\", \"target\", \"score\"]]\\\n",
        "        .sort_values(\"WEEK_NUM\")\\\n",
        "        .groupby(\"WEEK_NUM\")[[\"target\", \"score\"]]\\\n",
        "        .apply(lambda x: 2*roc_auc_score(x[\"target\"], x[\"score\"])-1).tolist()\n",
        "\n",
        "    x = np.arange(len(gini_in_time))\n",
        "    y = gini_in_time\n",
        "    a, b = np.polyfit(x, y, 1)\n",
        "    y_hat = a*x + b\n",
        "    residuals = y - y_hat\n",
        "    res_std = np.std(residuals)\n",
        "    avg_gini = np.mean(gini_in_time)\n",
        "    return gini_in_time, avg_gini + w_fallingrate * min(0, a) + w_resstd * res_std"
      ]
    },
    {
      "cell_type": "code",
      "execution_count": 31,
      "metadata": {
        "id": "kM60l75tvFHd",
        "colab": {
          "base_uri": "https://localhost:8080/"
        },
        "outputId": "12dde43d-b0af-4db0-c6b6-588309ab6f64"
      },
      "outputs": [
        {
          "output_type": "stream",
          "name": "stdout",
          "text": [
            "The stability score on the train set is: 0.4628925521693283\n",
            "The stability score on the valid set is: 0.4485783362593159\n",
            "The stability score on the test set is: 0.3483414015121803\n"
          ]
        }
      ],
      "source": [
        "gini_in_time_train, stability_score_train = gini_stability(base_train)\n",
        "gini_in_time_valid, stability_score_valid = gini_stability(base_valid)\n",
        "gini_in_time_test, stability_score_test = gini_stability(base_test)\n",
        "\n",
        "print(f'The stability score on the train set is: {stability_score_train}')\n",
        "print(f'The stability score on the valid set is: {stability_score_valid}')\n",
        "print(f'The stability score on the test set is: {stability_score_test}')"
      ]
    },
    {
      "cell_type": "code",
      "source": [
        "# Combine all three datasets into one\n",
        "all_scores_combined = pd.concat(\n",
        "    [base_train, base_valid, base_test],\n",
        "    axis=0,          # Concatenate vertically (stack rows)\n",
        "    ignore_index=False  # Keep original indices\n",
        ")"
      ],
      "metadata": {
        "id": "I7LXcdQFhRbg"
      },
      "execution_count": 32,
      "outputs": []
    },
    {
      "cell_type": "code",
      "source": [
        "gini_in_time, stability_score = gini_stability(all_scores_combined)\n",
        "\n",
        "print(f'The stability score is: {stability_score}')"
      ],
      "metadata": {
        "id": "LztaJIwphR8V",
        "colab": {
          "base_uri": "https://localhost:8080/"
        },
        "outputId": "5290a172-2b8e-40c2-a098-5935433a1926"
      },
      "execution_count": 33,
      "outputs": [
        {
          "output_type": "stream",
          "name": "stdout",
          "text": [
            "The stability score is: 0.46328692800639903\n"
          ]
        }
      ]
    },
    {
      "cell_type": "code",
      "source": [
        "import matplotlib.pyplot as plt\n",
        "import numpy as np\n",
        "\n",
        "\n",
        "# Convert Gini to AUC: AUC = (Gini + 1) / 2\n",
        "# Using list comprehension to apply the operation to each element\n",
        "auc_values = [(g + 1) / 2 for g in gini_in_time_test]\n",
        "\n",
        "# Create x-axis values (indices)\n",
        "x = base_test[\"WEEK_NUM\"].unique()\n",
        "\n",
        "# Create the plot\n",
        "plt.figure(figsize=(8, 5))\n",
        "plt.plot(x, auc_values, 'o-', color='blue')\n",
        "\n",
        "# Add labels and title\n",
        "plt.xlabel('Week Number')\n",
        "plt.ylabel('AUC')\n",
        "plt.title('Plot of AUC by Week Number - ANN')\n",
        "\n",
        "# Add grid\n",
        "plt.grid(alpha=0.3)\n",
        "\n",
        "# Show the plot\n",
        "plt.tight_layout()\n",
        "plt.show()"
      ],
      "metadata": {
        "colab": {
          "base_uri": "https://localhost:8080/",
          "height": 507
        },
        "id": "G5A4Wl6JKXHR",
        "outputId": "9c56ddf4-6de1-4ea4-c1f5-b366846a17ad"
      },
      "execution_count": 34,
      "outputs": [
        {
          "output_type": "display_data",
          "data": {
            "text/plain": [
              "<Figure size 800x500 with 1 Axes>"
            ],
            "image/png": "[encoded data removed]"
          },
          "metadata": {}
        }
      ]
    },
    {
      "cell_type": "code",
      "source": [
        "import numpy as np\n",
        "import matplotlib.pyplot as plt\n",
        "\n",
        "# Calculate rolling variance (variance at each point using all previous points)\n",
        "rolling_variance = []\n",
        "for i in range(1, len(auc_values) + 1):\n",
        "    subset = auc_values[:i]\n",
        "    variance = np.var(subset)\n",
        "    rolling_variance.append(variance)\n",
        "\n",
        "# Plot the variance\n",
        "plt.figure(figsize=(10, 6))\n",
        "plt.plot(base_test[\"WEEK_NUM\"].unique() , rolling_variance, 'o-', color='blue', linewidth=2)\n",
        "plt.xlabel('Week')\n",
        "plt.ylabel('Variance')\n",
        "plt.title('Variance of AUC Values - ANN')\n",
        "plt.grid(True, alpha=0.3)\n",
        "plt.tight_layout()\n",
        "plt.show()"
      ],
      "metadata": {
        "colab": {
          "base_uri": "https://localhost:8080/",
          "height": 607
        },
        "id": "F7ZKmV_td7eb",
        "outputId": "a700b9fe-1730-4ada-b7b6-693dc24fb7e4"
      },
      "execution_count": 35,
      "outputs": [
        {
          "output_type": "display_data",
          "data": {
            "text/plain": [
              "<Figure size 1000x600 with 1 Axes>"
            ],
            "image/png": "[encoded data removed]"
          },
          "metadata": {}
        }
      ]
    },
    {
      "cell_type": "code",
      "source": [
        "def calculate_weekly_rolling_stability(df, window_weeks, w_fallingrate=88.0, w_resstd=-0.5):\n",
        "    \"\"\"\n",
        "    Calculate rolling stability metrics on a weekly basis.\n",
        "\n",
        "    Parameters:\n",
        "    -----------\n",
        "    df : pd.DataFrame\n",
        "        DataFrame containing WEEK_NUM, target, and score columns\n",
        "    window_weeks : int, default=4\n",
        "        Number of weeks to include in each rolling window\n",
        "    w_fallingrate : float, default=88.0\n",
        "        Weight for the falling rate\n",
        "    w_resstd : float, default=-0.5\n",
        "        Weight for the residual standard deviation\n",
        "\n",
        "    Returns:\n",
        "    --------\n",
        "    pd.DataFrame\n",
        "        DataFrame with weekly stability metrics\n",
        "    \"\"\"\n",
        "    # Get unique weeks\n",
        "    unique_weeks = sorted(df['WEEK_NUM'].unique())\n",
        "\n",
        "    # For each week starting from window_weeks, calculate stability using previous window_weeks\n",
        "    results = []\n",
        "\n",
        "    for i in range(window_weeks-1, len(unique_weeks)):\n",
        "        # Get the current ending week\n",
        "        end_week = unique_weeks[i]\n",
        "\n",
        "        # Get the weeks in this window\n",
        "        window_week_nums = unique_weeks[i-(window_weeks-1):i+1]\n",
        "\n",
        "        # Filter data for these weeks\n",
        "        window_data = df[df['WEEK_NUM'].isin(window_week_nums)].copy()\n",
        "\n",
        "        # Calculate stability for this window\n",
        "        gini_values, stability_score = gini_stability(window_data, w_fallingrate, w_resstd)\n",
        "\n",
        "        results.append({\n",
        "            'end_week': end_week,\n",
        "            'window_weeks': window_week_nums,\n",
        "            'stability_score': stability_score,\n",
        "            'gini_values': gini_values,\n",
        "            'avg_gini': np.mean(gini_values),\n",
        "            'week_count': len(gini_values)\n",
        "        })\n",
        "\n",
        "    return pd.DataFrame(results)\n",
        "\n",
        "def plot_weekly_stability(stability_df):\n",
        "    \"\"\"\n",
        "    Plot the weekly stability metrics.\n",
        "\n",
        "    Parameters:\n",
        "    -----------\n",
        "    stability_df : pd.DataFrame\n",
        "        DataFrame with weekly stability metrics, as returned by calculate_weekly_rolling_stability\n",
        "    \"\"\"\n",
        "    fig, (ax1, ax2) = plt.subplots(2, 1, figsize=(12, 10), sharex=False)\n",
        "\n",
        "    # Plot stability score\n",
        "    ax1.plot(stability_df['end_week'], stability_df['stability_score'], 'b-', marker='o')\n",
        "    ax1.set_title('Weekly Stability Score - ANN')\n",
        "    ax1.set_xlabel('Week')\n",
        "    ax1.set_ylabel('Stability Score')\n",
        "    mean_stability = stability_df['stability_score'].mean()\n",
        "    ax1.axhline(y=mean_stability, color='r', linestyle='--', label=f'Mean: {mean_stability:.2f}')\n",
        "    ax1.grid(True)\n",
        "\n",
        "    # Plot average GINI\n",
        "    ax2.plot(stability_df['end_week'], stability_df['avg_gini'], 'g-', marker='o')\n",
        "    ax2.set_title('Average GINI in Rolling Window - ANN')\n",
        "    ax2.set_xlabel('End Week')\n",
        "    ax2.set_ylabel('Average GINI')\n",
        "    ax2.grid(True)\n",
        "\n",
        "    plt.tight_layout()\n",
        "    return"
      ],
      "metadata": {
        "id": "em9gIz8OhYdQ"
      },
      "execution_count": 36,
      "outputs": []
    },
    {
      "cell_type": "code",
      "source": [
        "# Calculate weekly stability with a 4-week window\n",
        "stability_results = calculate_weekly_rolling_stability(base_test, window_weeks=4)\n",
        "\n",
        "# Display results\n",
        "print(stability_results[['end_week', 'stability_score', 'avg_gini']])"
      ],
      "metadata": {
        "id": "VFZjODV2hpbZ",
        "colab": {
          "base_uri": "https://localhost:8080/"
        },
        "outputId": "8df2ffea-576d-4afe-a242-29d2bb08ce70"
      },
      "execution_count": 37,
      "outputs": [
        {
          "output_type": "stream",
          "name": "stdout",
          "text": [
            "    end_week  stability_score  avg_gini\n",
            "0         81        -1.986070  0.520932\n",
            "1         82        -1.062021  0.510284\n",
            "2         83        -0.199588  0.489748\n",
            "3         84         0.389213  0.482054\n",
            "4         85         0.487433  0.499682\n",
            "5         86         0.501498  0.508016\n",
            "6         87         0.497676  0.512062\n",
            "7         88        -0.859343  0.518945\n",
            "8         89         0.316488  0.515667\n",
            "9         90         0.085165  0.496783\n",
            "10        91         0.343545  0.505258\n"
          ]
        }
      ]
    },
    {
      "cell_type": "code",
      "source": [
        "plot_weekly_stability(stability_results)"
      ],
      "metadata": {
        "colab": {
          "base_uri": "https://localhost:8080/",
          "height": 1000
        },
        "id": "a40o5JCO5wCt",
        "outputId": "0803195a-ec80-4a43-b7c6-7fa8744029a0"
      },
      "execution_count": 38,
      "outputs": [
        {
          "output_type": "display_data",
          "data": {
            "text/plain": [
              "<Figure size 1200x1000 with 2 Axes>"
            ],
            "image/png": "[encoded data removed]"
          },
          "metadata": {}
        }
      ]
    },
    {
      "cell_type": "code",
      "source": [
        "def plot_weekly_stability_auc(stability_df):\n",
        "    \"\"\"\n",
        "    Plot the weekly stability metrics (stability score and GINI) on the same graph.\n",
        "\n",
        "    Parameters:\n",
        "    -----------\n",
        "    stability_df : pd.DataFrame\n",
        "        DataFrame with weekly stability metrics, as returned by calculate_weekly_rolling_stability\n",
        "    \"\"\"\n",
        "    # Clear any existing plots to prevent duplicates\n",
        "    plt.clf()\n",
        "    plt.close('all')\n",
        "\n",
        "    # Create a new figure\n",
        "    fig, ax = plt.subplots(figsize=(12, 6))\n",
        "\n",
        "    # Create twin y-axis for GINI\n",
        "    ax2 = ax.twinx()\n",
        "\n",
        "    # Plot stability score on primary axis\n",
        "    line1, = ax.plot(stability_df['end_week'], stability_df['stability_score'], 'b-', marker='o', label='Stability Score')\n",
        "    ax.set_ylabel('Stability Score', color='blue')\n",
        "    ax.tick_params(axis='y', labelcolor='blue')\n",
        "\n",
        "    # Plot average GINI on secondary axis\n",
        "    line2, = ax2.plot(stability_df['end_week'], (stability_df['avg_gini']+1)/2, 'g-', marker='o', label='AUC')\n",
        "    ax2.set_ylabel('AUC', color='green')\n",
        "    ax2.tick_params(axis='y', labelcolor='green')\n",
        "\n",
        "    # Add mean stability line\n",
        "    mean_stability = stability_df['stability_score'].mean()\n",
        "    line3 = ax.axhline(y=mean_stability, color='r', linestyle='--', label=f'Mean Stability: {mean_stability:.2f}')\n",
        "\n",
        "    # Add mean GINI line\n",
        "    mean_auc = ((stability_df['avg_gini']+1)/2).mean()\n",
        "    line4 = ax2.axhline(y=mean_auc, color='orange', linestyle='--', label=f'Mean AUC: {mean_auc:.2f}')\n",
        "\n",
        "    # Set title and labels\n",
        "    ax.set_title('Weekly Stability Score and AUC - ANN')\n",
        "    ax.set_xlabel('Week')\n",
        "    ax.grid(True)\n",
        "\n",
        "    # Combine legends from both axes and place it outside the plot area\n",
        "    lines = [line1, line2, line3, line4]\n",
        "    labels = [l.get_label() for l in lines]\n",
        "    ax.legend(lines, labels, loc='upper left', bbox_to_anchor=(0.0, -0.15), ncol=4)\n",
        "\n",
        "    plt.tight_layout()\n",
        "    plt.subplots_adjust(bottom=0.2)  # Make room for the legend at the bottom\n",
        "\n",
        "    return"
      ],
      "metadata": {
        "id": "MySWlGM205sQ"
      },
      "execution_count": 49,
      "outputs": []
    },
    {
      "cell_type": "code",
      "source": [
        "plot_weekly_stability_auc(stability_results)"
      ],
      "metadata": {
        "colab": {
          "base_uri": "https://localhost:8080/",
          "height": 600
        },
        "id": "kPSz1Chj1Qxl",
        "outputId": "a1630a4d-320e-4b3b-ad01-9973b4d9b12a"
      },
      "execution_count": 50,
      "outputs": [
        {
          "output_type": "display_data",
          "data": {
            "text/plain": [
              "<Figure size 1200x600 with 2 Axes>"
            ],
            "image/png": "[encoded data removed]"
          },
          "metadata": {}
        }
      ]
    },
    {
      "cell_type": "code",
      "source": [
        "# Combine all three datasets into one\n",
        "full_combined_df = pd.concat(\n",
        "    [base_train, base_valid, base_test],\n",
        "    axis=0,          # Concatenate vertically (stack rows)\n",
        "    ignore_index=False  # Keep original indices\n",
        ")"
      ],
      "metadata": {
        "id": "0uRMMPoqzI4G"
      },
      "execution_count": 41,
      "outputs": []
    },
    {
      "cell_type": "code",
      "source": [
        "print(\"AUC:\", roc_auc_score(full_combined_df[\"target\"], full_combined_df[\"score\"]))\n",
        "print(\"Stability:\", stability_score)"
      ],
      "metadata": {
        "colab": {
          "base_uri": "https://localhost:8080/"
        },
        "id": "F6m0PU0x3Kff",
        "outputId": "4d33444f-afb1-4565-d6da-237ffcb60dfc"
      },
      "execution_count": 42,
      "outputs": [
        {
          "output_type": "stream",
          "name": "stdout",
          "text": [
            "AUC: 0.7459487042780828\n",
            "Stability: 0.46328692800639903\n"
          ]
        }
      ]
    },
    {
      "cell_type": "code",
      "source": [
        "gini_0_65, stability_0_65 = gini_stability(full_combined_df[(full_combined_df['WEEK_NUM'] >= 0) & (full_combined_df['WEEK_NUM'] <= 65)])\n",
        "print(\"AUC week 0-65:\",  np.mean([(g + 1) / 2 for g in gini_0_65]))\n",
        "print(\"Stability week 0-65:\", stability_0_65)"
      ],
      "metadata": {
        "colab": {
          "base_uri": "https://localhost:8080/"
        },
        "id": "HElOjtIg3LJ8",
        "outputId": "9681facb-fa26-40aa-88a4-b7438bc87f33"
      },
      "execution_count": 43,
      "outputs": [
        {
          "output_type": "stream",
          "name": "stdout",
          "text": [
            "AUC week 0-65: 0.738320188863213\n",
            "Stability week 0-65: 0.46074268765431603\n"
          ]
        }
      ]
    },
    {
      "cell_type": "code",
      "source": [
        "gini_0_60, stability_0_60 = gini_stability(full_combined_df[(full_combined_df['WEEK_NUM'] >= 0) & (full_combined_df['WEEK_NUM'] <= 60)])\n",
        "print(\"AUC week 0-60:\",  np.mean([(g + 1) / 2 for g in gini_0_60]))\n",
        "print(\"Stability week 0-60:\", stability_0_60)"
      ],
      "metadata": {
        "colab": {
          "base_uri": "https://localhost:8080/"
        },
        "id": "pllAlhelK8Q0",
        "outputId": "f5be15f9-0135-49c0-c1b2-38cabce3bd3b"
      },
      "execution_count": 44,
      "outputs": [
        {
          "output_type": "stream",
          "name": "stdout",
          "text": [
            "AUC week 0-60: 0.7387945640856985\n",
            "Stability week 0-60: 0.46259685164787573\n"
          ]
        }
      ]
    },
    {
      "cell_type": "code",
      "source": [
        "gini_60_65, stability_60_65 = gini_stability(full_combined_df[(full_combined_df['WEEK_NUM'] > 60) & (full_combined_df['WEEK_NUM'] <= 65)])\n",
        "print(\"AUC week 60-65:\", np.mean([(g + 1) / 2 for g in gini_60_65]))\n",
        "print(\"Stability week 60-65:\", stability_60_65)"
      ],
      "metadata": {
        "colab": {
          "base_uri": "https://localhost:8080/"
        },
        "id": "I7LLFkDcK8U_",
        "outputId": "f0a0e42d-5571-4d23-e984-d9415f58642e"
      },
      "execution_count": 45,
      "outputs": [
        {
          "output_type": "stream",
          "name": "stdout",
          "text": [
            "AUC week 60-65: 0.7325328111488905\n",
            "Stability week 60-65: 0.33554331664164716\n"
          ]
        }
      ]
    },
    {
      "cell_type": "code",
      "source": [
        "gini_65_70, stability_65_70 = gini_stability(full_combined_df[(full_combined_df['WEEK_NUM'] > 65) & (full_combined_df['WEEK_NUM'] <= 70)])\n",
        "print(\"AUC week 65-70:\", np.mean([(g + 1) / 2 for g in gini_65_70]))\n",
        "print(\"Stability week 65-70:\", stability_65_70)"
      ],
      "metadata": {
        "colab": {
          "base_uri": "https://localhost:8080/"
        },
        "id": "heasnxdz3NRQ",
        "outputId": "5b73970d-8e90-4b3e-9b20-6063c9d7d507"
      },
      "execution_count": 46,
      "outputs": [
        {
          "output_type": "stream",
          "name": "stdout",
          "text": [
            "AUC week 65-70: 0.7203838791026344\n",
            "Stability week 65-70: 0.40703321980727425\n"
          ]
        }
      ]
    },
    {
      "cell_type": "code",
      "source": [
        "gini_70_91, stability_70_91 = gini_stability(full_combined_df[(full_combined_df['WEEK_NUM'] > 70) & (full_combined_df['WEEK_NUM'] <= 91)])\n",
        "print(\"AUC week 70-91\", np.mean([(g + 1) / 2 for g in gini_70_91]))\n",
        "print(\"Stability week 70-91\", stability_70_91)"
      ],
      "metadata": {
        "colab": {
          "base_uri": "https://localhost:8080/"
        },
        "id": "RqCocWqn3Oq2",
        "outputId": "8b41aff0-5cb5-4301-cd59-3b54d9bf478a"
      },
      "execution_count": 47,
      "outputs": [
        {
          "output_type": "stream",
          "name": "stdout",
          "text": [
            "AUC week 70-91 0.7545561163312045\n",
            "Stability week 70-91 0.4396052928325109\n"
          ]
        }
      ]
    },
    {
      "cell_type": "code",
      "source": [
        "stability_results_all = calculate_weekly_rolling_stability(full_combined_df, window_weeks=4)\n",
        "plot_weekly_stability_auc(stability_results_all)"
      ],
      "metadata": {
        "colab": {
          "base_uri": "https://localhost:8080/",
          "height": 600
        },
        "id": "46AdFBNNy-u3",
        "outputId": "88d44ce6-80aa-4093-cc11-3485a6222fbc"
      },
      "execution_count": 51,
      "outputs": [
        {
          "output_type": "display_data",
          "data": {
            "text/plain": [
              "<Figure size 1200x600 with 2 Axes>"
            ],
            "image/png": "[encoded data removed]"
          },
          "metadata": {}
        }
      ]
    }
  ],
  "metadata": {
    "colab": {
      "provenance": [],
      "collapsed_sections": [
        "xTbHrW_ArxGG"
      ]
    },
    "kernelspec": {
      "display_name": "Python 3",
      "name": "python3"
    },
    "language_info": {
      "name": "python"
    }
  },
  "nbformat": 4,
  "nbformat_minor": 0
}